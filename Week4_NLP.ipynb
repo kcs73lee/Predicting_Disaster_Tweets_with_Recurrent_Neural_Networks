{
 "cells": [
  {
   "cell_type": "markdown",
   "id": "eea6ed39-877e-4733-89ca-c19cf749a001",
   "metadata": {},
   "source": [
    "# Predicting Disaster Tweets with Recurrent Neural Networks"
   ]
  },
  {
   "cell_type": "markdown",
   "id": "fafc11dd-7e7f-4f39-aa0a-3d156e88cc96",
   "metadata": {
    "tags": []
   },
   "source": [
    "## Introduction\n",
    "\n",
    "Twitter has become an important mode of communication for emergencies. However, not all announcements made anyone and everyone are actually disasters. An example given is the word \"ABLAZE.\" This word can be used by a person to mean something metaphorically but a computer will have a hard time understanding what it really means in context.\n",
    "\n",
    "In this project, our goal is to predict whether a tweet is about a real natural distaster or not. If yes, we'd predict 1. Otherwise we'd predict 0.\n",
    "\n",
    "We'll be comparing several model architectures to see which one would give us the best predictive performance. The distilBERT model is a low-code wrapper of tensorflow suitable for text classification class. We'll compare that to recurrent neural network (RNN) architectures. There are two types we'll be using: Long Short-Term Memory and Gate Reccurent Unit. Because we are handling sequential data, RNN's are very suitbale for this task. RNN's can also handle variable length input and capture relationships overall a temporal scale which are what we need fo this natural language preocessing task. Both LSTM and GRU architectures are ideal for dealing with exploding/vanishing gradients. We'll finally tuned our LSTM model and make predicitons on the test set.\n",
    "\n",
    "## About the data\n",
    "\n",
    "The dataset includes a training, testing a submission comma seperated values (.csv) files.\n",
    "Each sample in the train and test set has a text of a tweet, a keyword from tweet, and location the tweet was sent from.\n",
    "Column names incude: \n",
    "1. id- a unique identifier\n",
    "2. text- text of the tweet\n",
    "3. location- where tweet was sent from\n",
    "4. keyword- keyword from tweet\n",
    "5. target- train.csv has whether tweet is about a real disaster or not (1, or 0)\n",
    "\n",
    "Furthur dataset description can be found in the Kaggle competition page https://www.kaggle.com/competitions/nlp-getting-started/data.\n",
    "\n",
    "## Project Overview:\n",
    "1. Setting Up Environment\n",
    "\n",
    "   Import modules such as sklearn and tensorflow for our project. We will be using the computer's GPU for training.\n",
    "   \n",
    "2. Exploratory Data Analysis (EDA)\n",
    "   \n",
    "   View summary statistics of datasets. View basic summary statistics as check for missing values and duplicates\n",
    "   \n",
    "3. Data Preprocessing\n",
    "   \n",
    "   Fill in missing values and drop cruplicates. \n",
    "   \n",
    "   Combine text columns\n",
    "   \n",
    "   Defining Training/Validation Sets\n",
    "   \n",
    "   Word pprocessing  tokenization\n",
    "   \n",
    "4. Model Architecture 1: DistilBERT with Ktrain\n",
    "    \n",
    "   Utilize low code wrapper to Tensorflow for text claddification\n",
    "   \n",
    "   Model Evaluation. Assessing loss and accuracy for our metrics of performance.\n",
    "    \n",
    "4. Model Architecture 2: LSTM\n",
    "\n",
    "   Train model using Tensorflow Keras Long Short-Term Memory (LSTM)\n",
    "   \n",
    "   Evaluate model for loss and accuracy\n",
    "\n",
    "5. Model Architecture 3: GRU\n",
    "\n",
    "   Train model using Tensorflow Keras Gated Reccurrent Unit (RGU)\n",
    "   \n",
    "   Evaluate model for loss and accuracy\n",
    "    \n",
    "6. Hyperparameter tuning and building upon LSTM Model\n",
    "   \n",
    "   Decrease epochs and adjust early stopping parameters\n",
    "   \n",
    "   Increasing number of layers\n",
    "   \n",
    "   Add bidrectional layer for prcossing inputs both forwards and backwards\n",
    "   \n",
    "   Adding normalization layer for training stability and improving training time\n",
    "   \n",
    "   Adding additional dropout layers for reducing overfitting\n",
    "   \n",
    "   Once hypearameters are tuned to desired, model is compiled and trained\n",
    "   \n",
    "   Evaluate loss of train vs validation and accuracy score. \n",
    "\n",
    "8. Predict on Test dataset for submission\n",
    "\n",
    "   Make prediction using best model and submit for evualtion in Kaggle\n",
    "    \n",
    "9. Discussion/ Summary\n",
    "\n",
    "   Reflect on the work, discuss results and what can be improved"
   ]
  },
  {
   "cell_type": "markdown",
   "id": "6b300fbb-ff5e-4912-b963-eb4f5aeabf11",
   "metadata": {},
   "source": [
    "## Setting up the environment\n",
    "\n",
    "Import libraries and modules needed for the project. These include modules for displaying graphical outputs, performance metrics, proccessing texts, and model-building packages such sklearn, tensorflow and keras."
   ]
  },
  {
   "cell_type": "code",
   "execution_count": 220,
   "id": "a94d14aa-e445-4437-9fca-ee9ac1179bb2",
   "metadata": {},
   "outputs": [],
   "source": [
    "import os\n",
    "import numpy as np\n",
    "import pandas as pd\n",
    "import seaborn as sns\n",
    "import matplotlib.pyplot as plt\n",
    "import random\n",
    "import warnings\n",
    "##Suppress warnings\n",
    "warnings.filterwarnings(\"ignore\")\n",
    "# from PIL import Image\n",
    "# import cv2\n",
    "import ktrain\n",
    "import spacy\n",
    "import nltk\n",
    "import string\n",
    "import re\n",
    "from nltk.corpus import stopwords\n",
    "from nltk.stem import WordNetLemmatizer, PorterStemmer\n",
    "from nltk.tokenize import word_tokenize\n",
    "from transformers import AutoTokenizer,TFBertModel\n",
    "from sklearn.model_selection import train_test_split, GridSearchCV\n",
    "from sklearn.utils import resample, shuffle\n",
    "from sklearn.metrics import ConfusionMatrixDisplay, confusion_matrix, roc_auc_score\n",
    "from torchvision import transforms\n",
    "import tensorflow as tf\n",
    "from tensorflow.keras import layers, models\n",
    "from tensorflow.keras.layers import Embedding, LSTM, GRU, TextVectorization, Bidirectional\n",
    "from tensorflow.keras.layers import Conv2D, MaxPool2D, MaxPooling2D, AveragePooling2D\n",
    "from tensorflow.keras.layers import Dense, Flatten, Dropout, BatchNormalization\n",
    "from tensorflow.keras.models import Sequential\n",
    "from tensorflow.keras.preprocessing.text import Tokenizer\n",
    "from tensorflow.keras.preprocessing.sequence import pad_sequences\n",
    "from keras.models import load_model\n",
    "from keras.backend import clear_session\n",
    "import keras_nlp\n",
    "from tensorflow.keras.callbacks import EarlyStopping, ModelCheckpoint, ReduceLROnPlateau\n",
    "from tensorflow.keras.optimizers import SGD, Adagrad, Adam, Nadam\n",
    "##print(\"keras version=\", keras_nlp.__version__)"
   ]
  },
  {
   "cell_type": "code",
   "execution_count": 2,
   "id": "67601498-f765-4815-8d95-be0f661c45b8",
   "metadata": {
    "tags": []
   },
   "outputs": [
    {
     "name": "stdout",
     "output_type": "stream",
     "text": [
      "\u001b[38;5;2m✔ Download and installation successful\u001b[0m\n",
      "You can now load the package via spacy.load('en_core_web_sm')\n"
     ]
    },
    {
     "name": "stderr",
     "output_type": "stream",
     "text": [
      "[nltk_data] Downloading package punkt to\n",
      "[nltk_data]     C:\\Users\\kcsle\\AppData\\Roaming\\nltk_data...\n",
      "[nltk_data]   Package punkt is already up-to-date!\n",
      "[nltk_data] Downloading package stopwords to\n",
      "[nltk_data]     C:\\Users\\kcsle\\AppData\\Roaming\\nltk_data...\n",
      "[nltk_data]   Package stopwords is already up-to-date!\n"
     ]
    },
    {
     "data": {
      "text/plain": [
       "True"
      ]
     },
     "execution_count": 2,
     "metadata": {},
     "output_type": "execute_result"
    }
   ],
   "source": [
    "##download the english model for spaCy and load it\n",
    "spacy.cli.download(\"en_core_web_sm\")\n",
    "nlp = spacy.load(\"en_core_web_sm\")\n",
    "##stopwords\n",
    "nltk.download('punkt')\n",
    "nltk.download('stopwords')"
   ]
  },
  {
   "cell_type": "markdown",
   "id": "904c8331-ee43-48a9-8da9-c9cad4dae17f",
   "metadata": {},
   "source": [
    "Create a base directory path so that reading files and folders from the directory is easier:"
   ]
  },
  {
   "cell_type": "code",
   "execution_count": 3,
   "id": "afc2d127-ef59-47b1-8418-820a9fc9dea5",
   "metadata": {},
   "outputs": [],
   "source": [
    "current_directory = os.getcwd()\n",
    "##convert forward slashes to backslashes\n",
    "work_dir = current_directory.replace('\\\\', '/')\n",
    "##print(\"Working Base Directory:\", work_dir)"
   ]
  },
  {
   "cell_type": "markdown",
   "id": "5d4f4ebe",
   "metadata": {},
   "source": [
    "Using Deep learning with Tensor will require intensive computational resources. Therefore, make decrease the time for our model training, we will mount GPU from my system."
   ]
  },
  {
   "cell_type": "code",
   "execution_count": 4,
   "id": "5cb4fc8e-329a-4a8c-a121-c2fbeb3f16cc",
   "metadata": {},
   "outputs": [
    {
     "name": "stdout",
     "output_type": "stream",
     "text": [
      "\n",
      "GPU Available: True\n",
      "/device:GPU:0\n",
      "\n",
      "CUDA Toolkit Version: True\n",
      "\n",
      "Installed TensorFlow Version: 2.10.1\n"
     ]
    }
   ],
   "source": [
    "##Suppress warnings\n",
    "warnings.filterwarnings(\"ignore\")\n",
    "##Check avaiablibility og GPU\n",
    "print(\"\\nGPU Available:\", tf.test.is_gpu_available())\n",
    "##Check GPU device name\n",
    "print(tf.test.gpu_device_name())\n",
    "##Check CUDA Toolkit and cuDNN installation\n",
    "print(\"\\nCUDA Toolkit Version:\", tf.test.is_built_with_cuda())\n",
    "##Check tensorflow version. This version should have GPU capbilityCheck TensorFlow installation\n",
    "print(\"\\nInstalled TensorFlow Version:\", tf.__version__)"
   ]
  },
  {
   "cell_type": "code",
   "execution_count": 5,
   "id": "b7b4760f",
   "metadata": {},
   "outputs": [
    {
     "name": "stdout",
     "output_type": "stream",
     "text": [
      "GPU will be used.\n"
     ]
    }
   ],
   "source": [
    "##Set and use the GPU\n",
    "GPU = tf.config.experimental.list_physical_devices('GPU')\n",
    "if GPU:\n",
    "    tf.config.experimental.set_visible_devices(GPU[0], 'GPU')\n",
    "    tf.config.experimental.set_memory_growth(GPU[0], True)\n",
    "    print(\"GPU will be used.\")\n",
    "else:\n",
    "    print(\"No GPU mounted, using CPU...\")"
   ]
  },
  {
   "cell_type": "markdown",
   "id": "85499023-3d86-4608-b864-d568eae3643a",
   "metadata": {},
   "source": [
    "## Exploratory data Analysis (EDA)\n",
    "\n",
    "Here, we'll read the training, testing and submission data. We will view the shape/ data attributes as well as do some basic summary statistics and visualizations such as look for missing data or duplicates."
   ]
  },
  {
   "cell_type": "code",
   "execution_count": 6,
   "id": "ab889d31-7d06-4837-b7af-273072bbea05",
   "metadata": {},
   "outputs": [],
   "source": [
    "##First read the datasets traina and test\n",
    "train_df = pd.read_csv(work_dir+\"/Documents/MS DS coursework/Intro to Deep Learning/Week 4/train.csv\")\n",
    "test_df = pd.read_csv(work_dir+\"/Documents/MS DS coursework/Intro to Deep Learning/Week 4/test.csv\")\n",
    "samp_df = pd.read_csv(work_dir+\"/Documents/MS DS coursework/Intro to Deep Learning/Week 4/sample_submission.csv\")"
   ]
  },
  {
   "cell_type": "code",
   "execution_count": 7,
   "id": "f5a3d37f-d6c4-47bf-827e-648c406cc7ff",
   "metadata": {
    "tags": []
   },
   "outputs": [
    {
     "data": {
      "text/html": [
       "<div>\n",
       "<style scoped>\n",
       "    .dataframe tbody tr th:only-of-type {\n",
       "        vertical-align: middle;\n",
       "    }\n",
       "\n",
       "    .dataframe tbody tr th {\n",
       "        vertical-align: top;\n",
       "    }\n",
       "\n",
       "    .dataframe thead th {\n",
       "        text-align: right;\n",
       "    }\n",
       "</style>\n",
       "<table border=\"1\" class=\"dataframe\">\n",
       "  <thead>\n",
       "    <tr style=\"text-align: right;\">\n",
       "      <th></th>\n",
       "      <th>id</th>\n",
       "      <th>keyword</th>\n",
       "      <th>location</th>\n",
       "      <th>text</th>\n",
       "      <th>target</th>\n",
       "    </tr>\n",
       "  </thead>\n",
       "  <tbody>\n",
       "    <tr>\n",
       "      <th>0</th>\n",
       "      <td>1</td>\n",
       "      <td>NaN</td>\n",
       "      <td>NaN</td>\n",
       "      <td>Our Deeds are the Reason of this #earthquake M...</td>\n",
       "      <td>1</td>\n",
       "    </tr>\n",
       "    <tr>\n",
       "      <th>1</th>\n",
       "      <td>4</td>\n",
       "      <td>NaN</td>\n",
       "      <td>NaN</td>\n",
       "      <td>Forest fire near La Ronge Sask. Canada</td>\n",
       "      <td>1</td>\n",
       "    </tr>\n",
       "    <tr>\n",
       "      <th>2</th>\n",
       "      <td>5</td>\n",
       "      <td>NaN</td>\n",
       "      <td>NaN</td>\n",
       "      <td>All residents asked to 'shelter in place' are ...</td>\n",
       "      <td>1</td>\n",
       "    </tr>\n",
       "    <tr>\n",
       "      <th>3</th>\n",
       "      <td>6</td>\n",
       "      <td>NaN</td>\n",
       "      <td>NaN</td>\n",
       "      <td>13,000 people receive #wildfires evacuation or...</td>\n",
       "      <td>1</td>\n",
       "    </tr>\n",
       "    <tr>\n",
       "      <th>4</th>\n",
       "      <td>7</td>\n",
       "      <td>NaN</td>\n",
       "      <td>NaN</td>\n",
       "      <td>Just got sent this photo from Ruby #Alaska as ...</td>\n",
       "      <td>1</td>\n",
       "    </tr>\n",
       "  </tbody>\n",
       "</table>\n",
       "</div>"
      ],
      "text/plain": [
       "   id keyword location                                               text  \\\n",
       "0   1     NaN      NaN  Our Deeds are the Reason of this #earthquake M...   \n",
       "1   4     NaN      NaN             Forest fire near La Ronge Sask. Canada   \n",
       "2   5     NaN      NaN  All residents asked to 'shelter in place' are ...   \n",
       "3   6     NaN      NaN  13,000 people receive #wildfires evacuation or...   \n",
       "4   7     NaN      NaN  Just got sent this photo from Ruby #Alaska as ...   \n",
       "\n",
       "   target  \n",
       "0       1  \n",
       "1       1  \n",
       "2       1  \n",
       "3       1  \n",
       "4       1  "
      ]
     },
     "execution_count": 7,
     "metadata": {},
     "output_type": "execute_result"
    }
   ],
   "source": [
    "train_df.head(5)"
   ]
  },
  {
   "cell_type": "code",
   "execution_count": 8,
   "id": "db283e0a-a19e-49a0-9ad7-f2d32ed3cad0",
   "metadata": {
    "tags": []
   },
   "outputs": [
    {
     "data": {
      "text/plain": [
       "(7613, 5)"
      ]
     },
     "execution_count": 8,
     "metadata": {},
     "output_type": "execute_result"
    }
   ],
   "source": [
    "##View shape train\n",
    "train_df.shape"
   ]
  },
  {
   "cell_type": "code",
   "execution_count": 9,
   "id": "3651c831-e60c-4e5a-9bbc-a6eb910b0e34",
   "metadata": {
    "tags": []
   },
   "outputs": [
    {
     "data": {
      "text/plain": [
       "(3263, 4)"
      ]
     },
     "execution_count": 9,
     "metadata": {},
     "output_type": "execute_result"
    }
   ],
   "source": [
    "test_df.shape"
   ]
  },
  {
   "cell_type": "code",
   "execution_count": 10,
   "id": "8e7b75b1-a7cf-4354-9ef7-883ef41388cb",
   "metadata": {
    "tags": []
   },
   "outputs": [
    {
     "data": {
      "text/html": [
       "<div>\n",
       "<style scoped>\n",
       "    .dataframe tbody tr th:only-of-type {\n",
       "        vertical-align: middle;\n",
       "    }\n",
       "\n",
       "    .dataframe tbody tr th {\n",
       "        vertical-align: top;\n",
       "    }\n",
       "\n",
       "    .dataframe thead th {\n",
       "        text-align: right;\n",
       "    }\n",
       "</style>\n",
       "<table border=\"1\" class=\"dataframe\">\n",
       "  <thead>\n",
       "    <tr style=\"text-align: right;\">\n",
       "      <th></th>\n",
       "      <th>id</th>\n",
       "      <th>keyword</th>\n",
       "      <th>location</th>\n",
       "      <th>text</th>\n",
       "    </tr>\n",
       "  </thead>\n",
       "  <tbody>\n",
       "    <tr>\n",
       "      <th>0</th>\n",
       "      <td>0</td>\n",
       "      <td>NaN</td>\n",
       "      <td>NaN</td>\n",
       "      <td>Just happened a terrible car crash</td>\n",
       "    </tr>\n",
       "    <tr>\n",
       "      <th>1</th>\n",
       "      <td>2</td>\n",
       "      <td>NaN</td>\n",
       "      <td>NaN</td>\n",
       "      <td>Heard about #earthquake is different cities, s...</td>\n",
       "    </tr>\n",
       "    <tr>\n",
       "      <th>2</th>\n",
       "      <td>3</td>\n",
       "      <td>NaN</td>\n",
       "      <td>NaN</td>\n",
       "      <td>there is a forest fire at spot pond, geese are...</td>\n",
       "    </tr>\n",
       "    <tr>\n",
       "      <th>3</th>\n",
       "      <td>9</td>\n",
       "      <td>NaN</td>\n",
       "      <td>NaN</td>\n",
       "      <td>Apocalypse lighting. #Spokane #wildfires</td>\n",
       "    </tr>\n",
       "    <tr>\n",
       "      <th>4</th>\n",
       "      <td>11</td>\n",
       "      <td>NaN</td>\n",
       "      <td>NaN</td>\n",
       "      <td>Typhoon Soudelor kills 28 in China and Taiwan</td>\n",
       "    </tr>\n",
       "  </tbody>\n",
       "</table>\n",
       "</div>"
      ],
      "text/plain": [
       "   id keyword location                                               text\n",
       "0   0     NaN      NaN                 Just happened a terrible car crash\n",
       "1   2     NaN      NaN  Heard about #earthquake is different cities, s...\n",
       "2   3     NaN      NaN  there is a forest fire at spot pond, geese are...\n",
       "3   9     NaN      NaN           Apocalypse lighting. #Spokane #wildfires\n",
       "4  11     NaN      NaN      Typhoon Soudelor kills 28 in China and Taiwan"
      ]
     },
     "execution_count": 10,
     "metadata": {},
     "output_type": "execute_result"
    }
   ],
   "source": [
    "test_df.head(5) "
   ]
  },
  {
   "cell_type": "code",
   "execution_count": 11,
   "id": "7d397c71-b8bb-4516-8f9d-1f5fe6077c3c",
   "metadata": {
    "tags": []
   },
   "outputs": [
    {
     "data": {
      "text/plain": [
       "id           int64\n",
       "keyword     object\n",
       "location    object\n",
       "text        object\n",
       "target       int64\n",
       "dtype: object"
      ]
     },
     "execution_count": 11,
     "metadata": {},
     "output_type": "execute_result"
    }
   ],
   "source": [
    "##Data types. Test data is same withoout target column\n",
    "train_df.dtypes"
   ]
  },
  {
   "cell_type": "code",
   "execution_count": 12,
   "id": "323ffd30-89a3-478d-beea-95085f8af4c6",
   "metadata": {
    "tags": []
   },
   "outputs": [
    {
     "name": "stdout",
     "output_type": "stream",
     "text": [
      "Number of Na's 'text' col= 0\n"
     ]
    }
   ],
   "source": [
    "nas = train_df['text'].isna().sum()\n",
    "print(\"Number of Na's 'text' col=\", nas)"
   ]
  },
  {
   "cell_type": "code",
   "execution_count": 13,
   "id": "708eee92-20a5-439e-a063-398afebe81be",
   "metadata": {
    "tags": []
   },
   "outputs": [
    {
     "name": "stdout",
     "output_type": "stream",
     "text": [
      "Number of duplicates 'text' col= 110\n"
     ]
    }
   ],
   "source": [
    "##Count duplicates in column text\n",
    "dups = train_df['text'].duplicated().sum()\n",
    "print(\"Number of duplicates 'text' col=\", dups)"
   ]
  },
  {
   "cell_type": "code",
   "execution_count": 14,
   "id": "9e6357aa-1484-4ce9-bb35-e3b4c5ff45b0",
   "metadata": {
    "tags": []
   },
   "outputs": [
    {
     "name": "stdout",
     "output_type": "stream",
     "text": [
      "Number of keywords missing= 61\n"
     ]
    }
   ],
   "source": [
    "kws = train_df['keyword'].isna().sum()\n",
    "print(\"Number of keywords missing=\", kws)"
   ]
  },
  {
   "cell_type": "code",
   "execution_count": 15,
   "id": "03e7af48-8b4b-4452-8168-958be94385ec",
   "metadata": {},
   "outputs": [
    {
     "data": {
      "text/plain": [
       "[Text(0, 0, 'Non-disaster'), Text(1, 0, 'Disaster')]"
      ]
     },
     "execution_count": 15,
     "metadata": {},
     "output_type": "execute_result"
    },
    {
     "data": {
      "image/png": "[encoded data removed]",
      "text/plain": [
       "<Figure size 400x400 with 1 Axes>"
      ]
     },
     "metadata": {},
     "output_type": "display_data"
    }
   ],
   "source": [
    "plt.figure(figsize=(4, 4))\n",
    "dis_plot = sns.countplot(x='target', hue='target', data=train_df, palette=\"deep\")\n",
    "dis_plot.set_xticks([0, 1])\n",
    "dis_plot.set_xticklabels(['Non-disaster','Disaster'])"
   ]
  },
  {
   "cell_type": "markdown",
   "id": "129c14a8-dc28-4c06-9d17-1b1e5a153e47",
   "metadata": {},
   "source": [
    "## Data Preprocessing\n",
    "\n",
    "Now we are ready to prepare out data. We will do the following:\n",
    "\n",
    "1. Clean up the data\n",
    "2. Perform text preprocessing\n",
    "3. Balance the binary dataset\n",
    "4. Split our dataset set into training and validation sets\n",
    "5. Tokenize and vectorize out texts from the training, validation and testing sets"
   ]
  },
  {
   "cell_type": "markdown",
   "id": "3bc087c7-3950-4462-b1d4-fd51bd88f840",
   "metadata": {},
   "source": [
    "First, let's drop all duplicate text rows because it is not easy to tell what the target is actually for the given text. "
   ]
  },
  {
   "cell_type": "code",
   "execution_count": 16,
   "id": "5d6a5f8a-34cd-4842-8c54-9cdb030cfc57",
   "metadata": {
    "tags": []
   },
   "outputs": [],
   "source": [
    "train_df = train_df.drop_duplicates(subset = \"text\", keep = False)"
   ]
  },
  {
   "cell_type": "markdown",
   "id": "832f917e-5b55-4531-973c-ff91cad4ae39",
   "metadata": {},
   "source": [
    "Since keywords might be important and can help with the predictions, we will combine it with the text column in a column called \"comb_text\" and use it in the analysis."
   ]
  },
  {
   "cell_type": "code",
   "execution_count": 17,
   "id": "c6939b6b-00cc-4229-a6d6-c5caacaea216",
   "metadata": {
    "tags": []
   },
   "outputs": [],
   "source": [
    "train_df['keyword'].fillna('',inplace=True)\n",
    "train_df['comb_text'] = train_df['text'] + ' ' + train_df['keyword']"
   ]
  },
  {
   "cell_type": "code",
   "execution_count": 18,
   "id": "383c9e57-ab27-4409-9c64-3f829a367ce4",
   "metadata": {
    "tags": []
   },
   "outputs": [
    {
     "data": {
      "text/plain": [
       "(7434, 6)"
      ]
     },
     "execution_count": 18,
     "metadata": {},
     "output_type": "execute_result"
    }
   ],
   "source": [
    "##check shape again\n",
    "train_df.shape"
   ]
  },
  {
   "cell_type": "markdown",
   "id": "77641aed-1b99-4799-8b00-56a76e3c9d51",
   "metadata": {},
   "source": [
    "Here is an important step for Natural Language Processing. We'll put together a function for performing text processing including changin words to lowercase, removing punctuation, removing numerics, tokenizing the words and removing stop words. We will includ options for advanced preprocessing of text including lemmatization and stemming."
   ]
  },
  {
   "cell_type": "code",
   "execution_count": 19,
   "id": "8ac457ab-14dc-4f8a-89d9-651347a7169d",
   "metadata": {
    "tags": []
   },
   "outputs": [],
   "source": [
    "def text_prep(text, adv_proc= [\"none\",\"lemma\",\"stem\"]):\n",
    "    ## to lowercase\n",
    "    text = text.lower()\n",
    "    ## remove punctuation\n",
    "    text= re.sub(r'[^\\w\\s]', '', text)\n",
    "    ## remove numerics\n",
    "    text = re.sub(r'\\d+', '', text)\n",
    "    ## tokenization\n",
    "    words = word_tokenize(text)\n",
    "    ## remove stopwords\n",
    "    stop_words = set(stopwords.words('english'))\n",
    "    words = [w for w in words if w not in stop_words]\n",
    "\n",
    "    ##Use lemma, steming or none\n",
    "    if adv_proc is \"lemma\":\n",
    "        ##lemma using spacy\n",
    "        words = [token.lemma_ for token in nlp(\" \".join(words))]\n",
    "    elif adv_proc is \"stem\":\n",
    "        ##Stemming using NLTK's Porter Stemmer\n",
    "        stemm = PorterStemmer()\n",
    "        words = [stemm.stem(word) for word in words]\n",
    "    else:\n",
    "        ##None lemma or stam advanced processings\n",
    "        words\n",
    "        \n",
    "    ##join words into string\n",
    "    proc_text = ' '.join(words)\n",
    "    \n",
    "    # ## tokenization\n",
    "    # words = word_tokenize(proc_text)\n",
    "    return words"
   ]
  },
  {
   "cell_type": "code",
   "execution_count": 20,
   "id": "40885330-b741-464a-9e8f-9dfb3f53ec15",
   "metadata": {
    "tags": []
   },
   "outputs": [
    {
     "name": "stdout",
     "output_type": "stream",
     "text": [
      "original: ['use', 'example', 'sentence', 'disaster', 'tweet']\n",
      "lemmatization: ['use', 'example', 'sentence', 'disaster', 'tweet']\n",
      "stemming: ['use', 'exampl', 'sentenc', 'disast', 'tweet']\n"
     ]
    }
   ],
   "source": [
    "##check example\n",
    "input_text = \"Use example of 1 sentence of disaster! tweet\"\n",
    "proc_text = text_prep(input_text, adv_proc= \"none\")\n",
    "proc_text_lemma = text_prep(input_text, adv_proc= \"none\")\n",
    "proc_text_stem = text_prep(input_text, adv_proc=\"stem\")\n",
    "\n",
    "print(\"original:\", proc_text)\n",
    "print(\"lemmatization:\", proc_text_lemma)\n",
    "print(\"stemming:\", proc_text_stem)"
   ]
  },
  {
   "cell_type": "code",
   "execution_count": 21,
   "id": "7c8622a6-886c-4de4-8e99-437cbb64525c",
   "metadata": {},
   "outputs": [
    {
     "name": "stdout",
     "output_type": "stream",
     "text": [
      "count    7434.000000\n",
      "mean      110.441620\n",
      "std        34.581695\n",
      "min         9.000000\n",
      "25%        86.000000\n",
      "50%       116.000000\n",
      "75%       142.000000\n",
      "max       164.000000\n",
      "Name: text_len, dtype: float64\n"
     ]
    }
   ],
   "source": [
    "train_df[\"text_len\"] = train_df[\"comb_text\"].apply(lambda x : len(x))\n",
    "print(train_df[\"text_len\"].describe())"
   ]
  },
  {
   "cell_type": "code",
   "execution_count": 22,
   "id": "9aca2d89-af58-41cc-b0ce-3583dd911c9b",
   "metadata": {
    "tags": []
   },
   "outputs": [
    {
     "data": {
      "text/plain": [
       "<Axes: xlabel='text_len', ylabel='Count'>"
      ]
     },
     "execution_count": 22,
     "metadata": {},
     "output_type": "execute_result"
    },
    {
     "data": {
      "image/png": "[encoded data removed]",
      "text/plain": [
       "<Figure size 640x480 with 1 Axes>"
      ]
     },
     "metadata": {},
     "output_type": "display_data"
    }
   ],
   "source": [
    "sns.histplot(x=\"text_len\", hue= \"target\", data= train_df)"
   ]
  },
  {
   "cell_type": "code",
   "execution_count": 23,
   "id": "feeaa030-345d-450c-8c36-e1bc5cf7cf45",
   "metadata": {
    "tags": []
   },
   "outputs": [
    {
     "name": "stdout",
     "output_type": "stream",
     "text": [
      "count    3263.000000\n",
      "mean      111.951885\n",
      "std        34.718777\n",
      "min         9.000000\n",
      "25%        88.000000\n",
      "50%       120.000000\n",
      "75%       143.000000\n",
      "max       171.000000\n",
      "Name: text_len, dtype: float64\n"
     ]
    }
   ],
   "source": [
    "test_df['keyword'].fillna('',inplace=True)\n",
    "test_df['comb_text'] = test_df['text'] + ' ' + test_df['keyword']\n",
    "test_df[\"text_len\"] = test_df[\"comb_text\"].apply(lambda x : len(x))\n",
    "test_df[\"full_text\"] = test_df[\"comb_text\"].apply(lambda x : text_prep(x, adv_proc= \"none\"))\n",
    "print(test_df[\"text_len\"].describe())"
   ]
  },
  {
   "cell_type": "code",
   "execution_count": 24,
   "id": "da3002ef-07cc-4ab2-b10c-47d82db301d3",
   "metadata": {
    "tags": []
   },
   "outputs": [
    {
     "data": {
      "text/html": [
       "<div>\n",
       "<style scoped>\n",
       "    .dataframe tbody tr th:only-of-type {\n",
       "        vertical-align: middle;\n",
       "    }\n",
       "\n",
       "    .dataframe tbody tr th {\n",
       "        vertical-align: top;\n",
       "    }\n",
       "\n",
       "    .dataframe thead th {\n",
       "        text-align: right;\n",
       "    }\n",
       "</style>\n",
       "<table border=\"1\" class=\"dataframe\">\n",
       "  <thead>\n",
       "    <tr style=\"text-align: right;\">\n",
       "      <th></th>\n",
       "      <th>id</th>\n",
       "      <th>target</th>\n",
       "      <th>text_len</th>\n",
       "    </tr>\n",
       "  </thead>\n",
       "  <tbody>\n",
       "    <tr>\n",
       "      <th>count</th>\n",
       "      <td>7434.000000</td>\n",
       "      <td>7434.000000</td>\n",
       "      <td>7434.000000</td>\n",
       "    </tr>\n",
       "    <tr>\n",
       "      <th>mean</th>\n",
       "      <td>5445.289615</td>\n",
       "      <td>0.423729</td>\n",
       "      <td>110.441620</td>\n",
       "    </tr>\n",
       "    <tr>\n",
       "      <th>std</th>\n",
       "      <td>3144.093523</td>\n",
       "      <td>0.494182</td>\n",
       "      <td>34.581695</td>\n",
       "    </tr>\n",
       "    <tr>\n",
       "      <th>min</th>\n",
       "      <td>1.000000</td>\n",
       "      <td>0.000000</td>\n",
       "      <td>9.000000</td>\n",
       "    </tr>\n",
       "    <tr>\n",
       "      <th>25%</th>\n",
       "      <td>2729.250000</td>\n",
       "      <td>0.000000</td>\n",
       "      <td>86.000000</td>\n",
       "    </tr>\n",
       "    <tr>\n",
       "      <th>50%</th>\n",
       "      <td>5414.500000</td>\n",
       "      <td>0.000000</td>\n",
       "      <td>116.000000</td>\n",
       "    </tr>\n",
       "    <tr>\n",
       "      <th>75%</th>\n",
       "      <td>8161.750000</td>\n",
       "      <td>1.000000</td>\n",
       "      <td>142.000000</td>\n",
       "    </tr>\n",
       "    <tr>\n",
       "      <th>max</th>\n",
       "      <td>10873.000000</td>\n",
       "      <td>1.000000</td>\n",
       "      <td>164.000000</td>\n",
       "    </tr>\n",
       "  </tbody>\n",
       "</table>\n",
       "</div>"
      ],
      "text/plain": [
       "                 id       target     text_len\n",
       "count   7434.000000  7434.000000  7434.000000\n",
       "mean    5445.289615     0.423729   110.441620\n",
       "std     3144.093523     0.494182    34.581695\n",
       "min        1.000000     0.000000     9.000000\n",
       "25%     2729.250000     0.000000    86.000000\n",
       "50%     5414.500000     0.000000   116.000000\n",
       "75%     8161.750000     1.000000   142.000000\n",
       "max    10873.000000     1.000000   164.000000"
      ]
     },
     "execution_count": 24,
     "metadata": {},
     "output_type": "execute_result"
    }
   ],
   "source": [
    "train_df.describe()"
   ]
  },
  {
   "cell_type": "code",
   "execution_count": 25,
   "id": "b242ea45-5ff9-4de7-bfe3-b002f16e0232",
   "metadata": {
    "tags": []
   },
   "outputs": [],
   "source": [
    "train_df[\"full_text\"] = train_df[\"comb_text\"].apply(lambda x : text_prep(x, adv_proc= \"none\"))"
   ]
  },
  {
   "cell_type": "code",
   "execution_count": 26,
   "id": "5ec984e3-f8d3-4271-a79c-2fb5c7658284",
   "metadata": {
    "tags": []
   },
   "outputs": [
    {
     "data": {
      "text/html": [
       "<div>\n",
       "<style scoped>\n",
       "    .dataframe tbody tr th:only-of-type {\n",
       "        vertical-align: middle;\n",
       "    }\n",
       "\n",
       "    .dataframe tbody tr th {\n",
       "        vertical-align: top;\n",
       "    }\n",
       "\n",
       "    .dataframe thead th {\n",
       "        text-align: right;\n",
       "    }\n",
       "</style>\n",
       "<table border=\"1\" class=\"dataframe\">\n",
       "  <thead>\n",
       "    <tr style=\"text-align: right;\">\n",
       "      <th></th>\n",
       "      <th>id</th>\n",
       "      <th>keyword</th>\n",
       "      <th>location</th>\n",
       "      <th>text</th>\n",
       "      <th>target</th>\n",
       "      <th>comb_text</th>\n",
       "      <th>text_len</th>\n",
       "      <th>full_text</th>\n",
       "    </tr>\n",
       "  </thead>\n",
       "  <tbody>\n",
       "    <tr>\n",
       "      <th>0</th>\n",
       "      <td>1</td>\n",
       "      <td></td>\n",
       "      <td>NaN</td>\n",
       "      <td>Our Deeds are the Reason of this #earthquake M...</td>\n",
       "      <td>1</td>\n",
       "      <td>Our Deeds are the Reason of this #earthquake M...</td>\n",
       "      <td>70</td>\n",
       "      <td>[deeds, reason, earthquake, may, allah, forgiv...</td>\n",
       "    </tr>\n",
       "    <tr>\n",
       "      <th>1</th>\n",
       "      <td>4</td>\n",
       "      <td></td>\n",
       "      <td>NaN</td>\n",
       "      <td>Forest fire near La Ronge Sask. Canada</td>\n",
       "      <td>1</td>\n",
       "      <td>Forest fire near La Ronge Sask. Canada</td>\n",
       "      <td>39</td>\n",
       "      <td>[forest, fire, near, la, ronge, sask, canada]</td>\n",
       "    </tr>\n",
       "    <tr>\n",
       "      <th>2</th>\n",
       "      <td>5</td>\n",
       "      <td></td>\n",
       "      <td>NaN</td>\n",
       "      <td>All residents asked to 'shelter in place' are ...</td>\n",
       "      <td>1</td>\n",
       "      <td>All residents asked to 'shelter in place' are ...</td>\n",
       "      <td>134</td>\n",
       "      <td>[residents, asked, shelter, place, notified, o...</td>\n",
       "    </tr>\n",
       "    <tr>\n",
       "      <th>3</th>\n",
       "      <td>6</td>\n",
       "      <td></td>\n",
       "      <td>NaN</td>\n",
       "      <td>13,000 people receive #wildfires evacuation or...</td>\n",
       "      <td>1</td>\n",
       "      <td>13,000 people receive #wildfires evacuation or...</td>\n",
       "      <td>66</td>\n",
       "      <td>[people, receive, wildfires, evacuation, order...</td>\n",
       "    </tr>\n",
       "    <tr>\n",
       "      <th>4</th>\n",
       "      <td>7</td>\n",
       "      <td></td>\n",
       "      <td>NaN</td>\n",
       "      <td>Just got sent this photo from Ruby #Alaska as ...</td>\n",
       "      <td>1</td>\n",
       "      <td>Just got sent this photo from Ruby #Alaska as ...</td>\n",
       "      <td>89</td>\n",
       "      <td>[got, sent, photo, ruby, alaska, smoke, wildfi...</td>\n",
       "    </tr>\n",
       "  </tbody>\n",
       "</table>\n",
       "</div>"
      ],
      "text/plain": [
       "   id keyword location                                               text  \\\n",
       "0   1              NaN  Our Deeds are the Reason of this #earthquake M...   \n",
       "1   4              NaN             Forest fire near La Ronge Sask. Canada   \n",
       "2   5              NaN  All residents asked to 'shelter in place' are ...   \n",
       "3   6              NaN  13,000 people receive #wildfires evacuation or...   \n",
       "4   7              NaN  Just got sent this photo from Ruby #Alaska as ...   \n",
       "\n",
       "   target                                          comb_text  text_len  \\\n",
       "0       1  Our Deeds are the Reason of this #earthquake M...        70   \n",
       "1       1            Forest fire near La Ronge Sask. Canada         39   \n",
       "2       1  All residents asked to 'shelter in place' are ...       134   \n",
       "3       1  13,000 people receive #wildfires evacuation or...        66   \n",
       "4       1  Just got sent this photo from Ruby #Alaska as ...        89   \n",
       "\n",
       "                                           full_text  \n",
       "0  [deeds, reason, earthquake, may, allah, forgiv...  \n",
       "1      [forest, fire, near, la, ronge, sask, canada]  \n",
       "2  [residents, asked, shelter, place, notified, o...  \n",
       "3  [people, receive, wildfires, evacuation, order...  \n",
       "4  [got, sent, photo, ruby, alaska, smoke, wildfi...  "
      ]
     },
     "execution_count": 26,
     "metadata": {},
     "output_type": "execute_result"
    }
   ],
   "source": [
    "train_df.head()"
   ]
  },
  {
   "cell_type": "markdown",
   "id": "2bc07792-3364-45e4-9641-12575add9230",
   "metadata": {},
   "source": [
    "Now we will get our dataset ready for model training by splitting the training data into training and validation sets. This will be important for out LSTM, GRU and Tuned LSTM models."
   ]
  },
  {
   "cell_type": "code",
   "execution_count": 27,
   "id": "eb375185-911a-48d8-a174-ee1abc751fe9",
   "metadata": {},
   "outputs": [
    {
     "data": {
      "text/plain": [
       "[Text(0, 0, 'Non-disaster'), Text(1, 0, 'Disaster')]"
      ]
     },
     "execution_count": 27,
     "metadata": {},
     "output_type": "execute_result"
    },
    {
     "data": {
      "image/png": "[encoded data removed]",
      "text/plain": [
       "<Figure size 400x400 with 1 Axes>"
      ]
     },
     "metadata": {},
     "output_type": "display_data"
    }
   ],
   "source": [
    "##Set random state\n",
    "rs= 123\n",
    "##lowest count for postive values. \n",
    "##use at much of the data as possible to balance the training dataset\n",
    "samp_size= len(train_df[train_df['target']==1])\n",
    "\n",
    "train_0= train_df[train_df['target']==0].sample(samp_size, random_state=rs)\n",
    "train_1= train_df[train_df['target']==1].sample(samp_size, random_state=rs)\n",
    "\n",
    "concat_dat= pd.concat([train_0, train_1], axis= 0).reset_index(drop=True)\n",
    "train_df= shuffle(concat_dat)\n",
    "\n",
    "plt.figure(figsize=(4, 4))\n",
    "newtrain_plot = sns.countplot(x='target', hue='target', data= train_df, palette=\"deep\")\n",
    "newtrain_plot.set_xticks([0, 1])\n",
    "newtrain_plot.set_xticklabels(['Non-disaster','Disaster'])\n"
   ]
  },
  {
   "cell_type": "code",
   "execution_count": 28,
   "id": "7f23aa20-9621-47d8-9eb7-6094a072b2fd",
   "metadata": {
    "tags": []
   },
   "outputs": [
    {
     "data": {
      "text/plain": [
       "4974    [cant, fix, stupid, mt, cbccalgary, dont, driv...\n",
       "3215    [heat, wave, squad, revitup, pizzarev, httptco...\n",
       "5463    [pagasa, yellow, warning, panay, island, guima...\n",
       "2597    [cant, believe, myfriendmina, photo, bombed, s...\n",
       "2037    [feel, engulfed, low, selfimage, take, quiz, h...\n",
       "Name: full_text, dtype: object"
      ]
     },
     "execution_count": 28,
     "metadata": {},
     "output_type": "execute_result"
    }
   ],
   "source": [
    "texts = train_df['full_text']\n",
    "labels = train_df['target']\n",
    "rs= 123\n",
    "X_train, X_val, y_train, y_val = train_test_split(texts,\n",
    "                                              labels,\n",
    "                                              test_size=0.15,\n",
    "                                              random_state=rs,shuffle=True)\n",
    "texts.head()\n",
    "# labels.head()"
   ]
  },
  {
   "cell_type": "markdown",
   "id": "20ee8fcc-1beb-431b-af44-8ba4bc83bf4f",
   "metadata": {},
   "source": [
    "Finally tokenize our word sequences and use vectorization to convert text to numeric representation and prep for RNN models"
   ]
  },
  {
   "cell_type": "code",
   "execution_count": 29,
   "id": "617c9118-87f9-47df-b1ca-93d412260478",
   "metadata": {
    "tags": []
   },
   "outputs": [
    {
     "data": {
      "text/plain": [
       "array([[   0,    0,    0, ..., 1980,   73,   17],\n",
       "       [   0,    0,    0, ...,  589, 1455,  236],\n",
       "       [   0,    0,    0, ...,  859,  630,  407],\n",
       "       ...,\n",
       "       [   0,    0,    0, ...,  621,  118, 1130],\n",
       "       [   0,    0,    0, ...,  211, 1397, 1576],\n",
       "       [   0,    0,    0, ..., 1100,    9,  292]])"
      ]
     },
     "execution_count": 29,
     "metadata": {},
     "output_type": "execute_result"
    }
   ],
   "source": [
    "# vocab_size = 1000\n",
    "max_len = 30\n",
    "##make sure to account for out of vocabulary words\n",
    "tokenizer = Tokenizer(num_words = len(train_df), oov_token='<UNK>')\n",
    "tokenizer.fit_on_texts(X_train)\n",
    "\n",
    "seq_train = tokenizer.texts_to_sequences(X_train)\n",
    "X_train_vect = pad_sequences(seq_train,maxlen=max_len)\n",
    "\n",
    "seq_val = tokenizer.texts_to_sequences(X_val)\n",
    "X_val_vect = pad_sequences(seq_val,maxlen=max_len)\n",
    "\n",
    "seq_test = tokenizer.texts_to_sequences(test_df[\"full_text\"])\n",
    "X_test_vect = pad_sequences(seq_test,maxlen=max_len)\n",
    "\n",
    "X_train_vect\n",
    "X_val_vect\n",
    "X_test_vect"
   ]
  },
  {
   "cell_type": "markdown",
   "id": "987f9b0f-44e1-4287-8f7d-b973f206dfba",
   "metadata": {},
   "source": [
    "## Model Architecture 1: DistilBERT with Ktrain\n",
    "\n",
    "DistilBERT is a lightweight version of BERT (Bidriectional Encorder Representations from Transformers), that compared to BERT, is more memory-efficient as well as faster while maintaining equivalent performance compared to BERT model.\n",
    "\n",
    "The advantage of this model is that it is a container that has a lot of existing pre-trained vocabulary to work off from.\n",
    "\n",
    "Our process is as follows:\n",
    "1. Sample 1000 rows of text data from 0 and 1 target to balance the data. \n",
    "    The rows of data are also memory-effienct (not too high for memory usage and not too low for training the model).\n",
    "2. Get texts from dataframe using ktrain to get traning, validation and prepocess sets.\n",
    "    max features of 10000 means important words up to 10000 are used.\n",
    "    max length up to 100 means any sequence of words above 100 are truncated while below that are padded.\n",
    "    Validation precent is 20%.\n",
    "    n gram range means we are using sets of two words.\n",
    "3. Get the classifier and learner rate.\n",
    "4. Use best saved model to make predictions on validation set \n",
    "5. Evaluate the loss and prediction of the model"
   ]
  },
  {
   "cell_type": "code",
   "execution_count": 39,
   "id": "d28695b5-74b0-4975-9cfe-fac0965d0b79",
   "metadata": {
    "tags": []
   },
   "outputs": [],
   "source": [
    "sample_amount = 1000\n",
    "rs= 123\n",
    "dis = train_df[train_df['target'] == 1].sample(n=sample_amount, random_state=rs)\n",
    "non_dis = train_df[train_df['target'] == 0].sample(n=sample_amount, random_state=rs)"
   ]
  },
  {
   "cell_type": "code",
   "execution_count": 40,
   "id": "8eee28f7-c486-4d41-a0d2-14a77f13b04f",
   "metadata": {
    "tags": []
   },
   "outputs": [
    {
     "data": {
      "text/html": [
       "<div>\n",
       "<style scoped>\n",
       "    .dataframe tbody tr th:only-of-type {\n",
       "        vertical-align: middle;\n",
       "    }\n",
       "\n",
       "    .dataframe tbody tr th {\n",
       "        vertical-align: top;\n",
       "    }\n",
       "\n",
       "    .dataframe thead th {\n",
       "        text-align: right;\n",
       "    }\n",
       "</style>\n",
       "<table border=\"1\" class=\"dataframe\">\n",
       "  <thead>\n",
       "    <tr style=\"text-align: right;\">\n",
       "      <th></th>\n",
       "      <th>id</th>\n",
       "      <th>target</th>\n",
       "      <th>text_len</th>\n",
       "    </tr>\n",
       "  </thead>\n",
       "  <tbody>\n",
       "    <tr>\n",
       "      <th>count</th>\n",
       "      <td>2000.000000</td>\n",
       "      <td>2000.000000</td>\n",
       "      <td>2000.000000</td>\n",
       "    </tr>\n",
       "    <tr>\n",
       "      <th>mean</th>\n",
       "      <td>5445.462000</td>\n",
       "      <td>0.500000</td>\n",
       "      <td>111.419000</td>\n",
       "    </tr>\n",
       "    <tr>\n",
       "      <th>std</th>\n",
       "      <td>3161.745416</td>\n",
       "      <td>0.500125</td>\n",
       "      <td>33.718258</td>\n",
       "    </tr>\n",
       "    <tr>\n",
       "      <th>min</th>\n",
       "      <td>1.000000</td>\n",
       "      <td>0.000000</td>\n",
       "      <td>17.000000</td>\n",
       "    </tr>\n",
       "    <tr>\n",
       "      <th>25%</th>\n",
       "      <td>2594.000000</td>\n",
       "      <td>0.000000</td>\n",
       "      <td>88.000000</td>\n",
       "    </tr>\n",
       "    <tr>\n",
       "      <th>50%</th>\n",
       "      <td>5481.500000</td>\n",
       "      <td>0.500000</td>\n",
       "      <td>117.000000</td>\n",
       "    </tr>\n",
       "    <tr>\n",
       "      <th>75%</th>\n",
       "      <td>8176.250000</td>\n",
       "      <td>1.000000</td>\n",
       "      <td>142.000000</td>\n",
       "    </tr>\n",
       "    <tr>\n",
       "      <th>max</th>\n",
       "      <td>10864.000000</td>\n",
       "      <td>1.000000</td>\n",
       "      <td>164.000000</td>\n",
       "    </tr>\n",
       "  </tbody>\n",
       "</table>\n",
       "</div>"
      ],
      "text/plain": [
       "                 id       target     text_len\n",
       "count   2000.000000  2000.000000  2000.000000\n",
       "mean    5445.462000     0.500000   111.419000\n",
       "std     3161.745416     0.500125    33.718258\n",
       "min        1.000000     0.000000    17.000000\n",
       "25%     2594.000000     0.000000    88.000000\n",
       "50%     5481.500000     0.500000   117.000000\n",
       "75%     8176.250000     1.000000   142.000000\n",
       "max    10864.000000     1.000000   164.000000"
      ]
     },
     "execution_count": 40,
     "metadata": {},
     "output_type": "execute_result"
    }
   ],
   "source": [
    "part_df = pd.concat([dis,non_dis])\n",
    "part_df.describe()"
   ]
  },
  {
   "cell_type": "code",
   "execution_count": 41,
   "id": "a75a4309-185f-46f6-b451-bd89a4be7b5a",
   "metadata": {
    "tags": []
   },
   "outputs": [
    {
     "name": "stdout",
     "output_type": "stream",
     "text": [
      "['not_target', 'target']\n",
      "      not_target  target\n",
      "1349         1.0     0.0\n",
      "2297         1.0     0.0\n",
      "5609         0.0     1.0\n",
      "1062         1.0     0.0\n",
      "5350         0.0     1.0\n",
      "['not_target', 'target']\n",
      "      not_target  target\n",
      "1355         1.0     0.0\n",
      "889          1.0     0.0\n",
      "5165         0.0     1.0\n",
      "4454         0.0     1.0\n",
      "5341         0.0     1.0\n",
      "preprocessing train...\n",
      "language: en\n",
      "train sequence lengths:\n",
      "\tmean : 16\n",
      "\t95percentile : 25\n",
      "\t99percentile : 28\n"
     ]
    },
    {
     "data": {
      "text/html": [
       "\n",
       "<style>\n",
       "    /* Turns off some styling */\n",
       "    progress {\n",
       "        /* gets rid of default border in Firefox and Opera. */\n",
       "        border: none;\n",
       "        /* Needs to be in here for Safari polyfill so background images work as expected. */\n",
       "        background-size: auto;\n",
       "    }\n",
       "    progress:not([value]), progress:not([value])::-webkit-progress-bar {\n",
       "        background: repeating-linear-gradient(45deg, #7e7e7e, #7e7e7e 10px, #5c5c5c 10px, #5c5c5c 20px);\n",
       "    }\n",
       "    .progress-bar-interrupted, .progress-bar-interrupted::-webkit-progress-bar {\n",
       "        background: #F44336;\n",
       "    }\n",
       "</style>\n"
      ],
      "text/plain": [
       "<IPython.core.display.HTML object>"
      ]
     },
     "metadata": {},
     "output_type": "display_data"
    },
    {
     "data": {
      "text/html": [],
      "text/plain": [
       "<IPython.core.display.HTML object>"
      ]
     },
     "metadata": {},
     "output_type": "display_data"
    },
    {
     "name": "stdout",
     "output_type": "stream",
     "text": [
      "Is Multi-Label? False\n",
      "preprocessing test...\n",
      "language: en\n",
      "test sequence lengths:\n",
      "\tmean : 16\n",
      "\t95percentile : 25\n",
      "\t99percentile : 28\n"
     ]
    },
    {
     "data": {
      "text/html": [
       "\n",
       "<style>\n",
       "    /* Turns off some styling */\n",
       "    progress {\n",
       "        /* gets rid of default border in Firefox and Opera. */\n",
       "        border: none;\n",
       "        /* Needs to be in here for Safari polyfill so background images work as expected. */\n",
       "        background-size: auto;\n",
       "    }\n",
       "    progress:not([value]), progress:not([value])::-webkit-progress-bar {\n",
       "        background: repeating-linear-gradient(45deg, #7e7e7e, #7e7e7e 10px, #5c5c5c 10px, #5c5c5c 20px);\n",
       "    }\n",
       "    .progress-bar-interrupted, .progress-bar-interrupted::-webkit-progress-bar {\n",
       "        background: #F44336;\n",
       "    }\n",
       "</style>\n"
      ],
      "text/plain": [
       "<IPython.core.display.HTML object>"
      ]
     },
     "metadata": {},
     "output_type": "display_data"
    },
    {
     "data": {
      "text/html": [],
      "text/plain": [
       "<IPython.core.display.HTML object>"
      ]
     },
     "metadata": {},
     "output_type": "display_data"
    }
   ],
   "source": [
    "train, val, preprocess = ktrain.text.texts_from_df(\n",
    "    part_df,\n",
    "    \"comb_text\",\n",
    "    label_columns=[\"target\"],\n",
    "    val_df=None,\n",
    "    max_features=10000,\n",
    "    maxlen=100,\n",
    "    val_pct=0.20,\n",
    "    ngram_range=2,\n",
    "    preprocess_mode=\"distilbert\",\n",
    "    verbose=1\n",
    ")"
   ]
  },
  {
   "cell_type": "code",
   "execution_count": 42,
   "id": "33dda9f7-cfe9-4419-ab9b-7968758b8a10",
   "metadata": {
    "tags": []
   },
   "outputs": [],
   "source": [
    "model = preprocess.get_classifier()\n",
    "learner = ktrain.get_learner(model, train_data=train, val_data=val, batch_size=4)"
   ]
  },
  {
   "cell_type": "code",
   "execution_count": 43,
   "id": "f1475ade-7ea5-4dc6-aa25-a5db6da39c19",
   "metadata": {
    "tags": []
   },
   "outputs": [
    {
     "name": "stdout",
     "output_type": "stream",
     "text": [
      "simulating training for different learning rates... this may take a few moments...\n",
      "Epoch 1/4\n",
      "400/400 [==============================] - 32s 59ms/step - loss: 0.6738 - accuracy: 0.5850\n",
      "Epoch 2/4\n",
      "400/400 [==============================] - 24s 60ms/step - loss: 0.6023 - accuracy: 0.6719\n",
      "Epoch 3/4\n",
      "400/400 [==============================] - 20s 49ms/step - loss: 5.9676 - accuracy: 0.4815\n",
      "\n",
      "\n",
      "done.\n",
      "Please invoke the Learner.lr_plot() method to visually inspect the loss plot to help identify the maximal learning rate associated with falling loss.\n"
     ]
    }
   ],
   "source": [
    "learner.lr_find(max_epochs=4)"
   ]
  },
  {
   "cell_type": "code",
   "execution_count": 44,
   "id": "2c539a96-ff05-4886-ae92-cfaf306d634f",
   "metadata": {
    "tags": []
   },
   "outputs": [
    {
     "data": {
      "image/png": "[encoded data removed]",
      "text/plain": [
       "<Figure size 640x480 with 1 Axes>"
      ]
     },
     "metadata": {},
     "output_type": "display_data"
    }
   ],
   "source": [
    "learner.lr_plot()"
   ]
  },
  {
   "cell_type": "code",
   "execution_count": 45,
   "id": "00be0bab-69c4-458e-8b2b-5dab77379afd",
   "metadata": {
    "tags": []
   },
   "outputs": [
    {
     "name": "stdout",
     "output_type": "stream",
     "text": [
      "\n",
      "\n",
      "begin training using triangular learning rate policy with max lr of 0.0001...\n",
      "Epoch 1/10\n",
      "400/400 [==============================] - 37s 74ms/step - loss: 0.5719 - accuracy: 0.7194 - val_loss: 0.4610 - val_accuracy: 0.8050\n",
      "Epoch 2/10\n",
      "400/400 [==============================] - ETA: 0s - loss: 0.4216 - accuracy: 0.8263Restoring model weights from the end of the best epoch: 1.\n",
      "400/400 [==============================] - 27s 66ms/step - loss: 0.4216 - accuracy: 0.8263 - val_loss: 0.4947 - val_accuracy: 0.7825\n",
      "Epoch 2: early stopping\n",
      "Weights from best epoch have been loaded into model.\n"
     ]
    }
   ],
   "source": [
    "history=learner.autofit(\n",
    "    1e-4,\n",
    "    checkpoint_folder='checkpoint',\n",
    "    epochs=10,\n",
    "    early_stopping=True\n",
    ")"
   ]
  },
  {
   "cell_type": "code",
   "execution_count": 46,
   "id": "691cb879-a964-46c6-8a92-e9287dd71372",
   "metadata": {
    "tags": []
   },
   "outputs": [],
   "source": [
    "predictor = ktrain.get_predictor(learner.model, preproc=preprocess)"
   ]
  },
  {
   "cell_type": "code",
   "execution_count": 47,
   "id": "044fc196-4c41-4770-b776-f0d817df6783",
   "metadata": {
    "tags": []
   },
   "outputs": [
    {
     "name": "stdout",
     "output_type": "stream",
     "text": [
      "13/13 [==============================] - 2s 53ms/step\n",
      "              precision    recall  f1-score   support\n",
      "\n",
      "           0       0.76      0.87      0.81       191\n",
      "           1       0.86      0.75      0.80       209\n",
      "\n",
      "    accuracy                           0.81       400\n",
      "   macro avg       0.81      0.81      0.80       400\n",
      "weighted avg       0.81      0.81      0.80       400\n",
      "\n"
     ]
    }
   ],
   "source": [
    "validation = learner.validate(val_data=val, print_report=True)"
   ]
  },
  {
   "cell_type": "markdown",
   "id": "e737d3f0-cfd6-4361-890b-5bd68249f03e",
   "metadata": {},
   "source": [
    "Our distilBERT wrapper model achieved a good prediction accuracy of 0.80 overall. Let's see how this compare to other model architectures LSTM and GRU."
   ]
  },
  {
   "cell_type": "code",
   "execution_count": 205,
   "id": "dbbd29f2-a9a3-4b94-9cdc-747aa7834dab",
   "metadata": {
    "tags": []
   },
   "outputs": [],
   "source": [
    "##learner.view_top_losses(n=1, preproc=text.preprocessor)\n",
    "##Save the best validation accuracy and loss\n",
    "acc = []\n",
    "loss = []\n",
    "\n",
    "acc.append(0.8050)\n",
    "loss.append(0.4610)"
   ]
  },
  {
   "cell_type": "code",
   "execution_count": 49,
   "id": "0448e83e-5850-4d2a-9d36-de8841a20fc2",
   "metadata": {
    "tags": []
   },
   "outputs": [],
   "source": [
    "##Clear session of tf\n",
    "clear_session()"
   ]
  },
  {
   "cell_type": "markdown",
   "id": "046bd2ba-17c9-4fb5-a059-0d9e53b8c61d",
   "metadata": {},
   "source": [
    "## Model Architecture 2: LSTM\n",
    "\n",
    "LSTM stand for Long Short-Term Memory is a type or recuurent naural network (RNN) that addressed the vanishining graident prodblem that traditional RNNs have. LTSM consits of a cell, an input gate and an output gate.\n",
    "\n",
    "Our architecture consists of the following:\n",
    "\n",
    "1. An Embedding layer cor creating word embeddings. The integer-encoded vocabulary is transformed into a dense vector of output_dim.\n",
    "2. An LSTM with 128 units and an activaation \"relu\"\n",
    "3. A drop out layer of 0.5 for regularization. This is used to reduce overfitting but randonly selecting a portion of input units and set it to 0 for training and introducing noise.\n",
    "4. A dense layer od 100 units with relu activation for high level feature extraction\n",
    "5. A dense layer of 1 unit for binary class probability predictions"
   ]
  },
  {
   "cell_type": "code",
   "execution_count": 50,
   "id": "af57b706-bd99-4cbb-bca3-fcfc3b3d69d5",
   "metadata": {},
   "outputs": [
    {
     "name": "stdout",
     "output_type": "stream",
     "text": [
      "Model: \"sequential\"\n",
      "_________________________________________________________________\n",
      " Layer (type)                Output Shape              Param #   \n",
      "=================================================================\n",
      " embedding (Embedding)       (None, 30, 128)           512000    \n",
      "                                                                 \n",
      " lstm (LSTM)                 (None, 128)               131584    \n",
      "                                                                 \n",
      " dropout (Dropout)           (None, 128)               0         \n",
      "                                                                 \n",
      " dense (Dense)               (None, 128)               16512     \n",
      "                                                                 \n",
      " dense_1 (Dense)             (None, 1)                 129       \n",
      "                                                                 \n",
      "=================================================================\n",
      "Total params: 660,225\n",
      "Trainable params: 660,225\n",
      "Non-trainable params: 0\n",
      "_________________________________________________________________\n"
     ]
    }
   ],
   "source": [
    "# Parameters\n",
    "embedding_dim = 128\n",
    "vocab_size=4000 \n",
    "max_len= 30\n",
    "\n",
    "# input_layer= Input(shape=(1,), dtype='string')\n",
    "modlstm= Sequential()\n",
    "# modlstm.add(vectorizer(input_layer))\n",
    "modlstm.add(Embedding(input_dim= vocab_size,\n",
    "                      output_dim= embedding_dim, \n",
    "                      input_length= max_len))\n",
    "# modlstm.add(LSTM(100,activation='tanh', return_sequences=False))\n",
    "# modlstm.add(Dropout(0.2))\n",
    "modlstm.add(LSTM(128, activation='relu'))\n",
    "modlstm.add(Dropout(0.5))\n",
    "modlstm.add(Dense(128, activation='relu'))\n",
    "modlstm.add(Dense(1, activation='sigmoid'))\n",
    "\n",
    "##compile the data\n",
    "optimizers = Adam(learning_rate=0.0001)\n",
    "# optimizers = Adagrad(learning_rate=0.0001)\n",
    "modlstm.compile(loss='binary_crossentropy',\n",
    "                   optimizer=optimizers,\n",
    "                   metrics=['accuracy'])\n",
    "\n",
    "##show model summry\n",
    "modlstm.summary()"
   ]
  },
  {
   "cell_type": "code",
   "execution_count": 51,
   "id": "334b416d-7e15-42c5-b1fb-0470179bca22",
   "metadata": {
    "tags": []
   },
   "outputs": [],
   "source": [
    "early_stop1 = EarlyStopping(monitor='val_loss', \n",
    "                           patience=8, \n",
    "                           restore_best_weights=True)\n",
    "model_cp1 = ModelCheckpoint(\"lstm_bestmod.h5\",\n",
    "                           monitor= 'val_loss',\n",
    "                           verbose= 1,\n",
    "                           save_best_only=True)\n",
    "reduce_lr1 = ReduceLROnPlateau(monitor='val_loss', \n",
    "                              factor=0.2, \n",
    "                              patience=6, \n",
    "                              min_lr=0.00001)"
   ]
  },
  {
   "cell_type": "code",
   "execution_count": 52,
   "id": "9972d618-8095-4807-8638-dc12ca263df5",
   "metadata": {},
   "outputs": [
    {
     "name": "stdout",
     "output_type": "stream",
     "text": [
      "Epoch 1/30\n",
      "168/168 [==============================] - ETA: 0s - loss: 0.6916 - accuracy: 0.5651\n",
      "Epoch 1: val_loss improved from inf to 0.68712, saving model to lstm_bestmod.h5\n",
      "168/168 [==============================] - 16s 79ms/step - loss: 0.6916 - accuracy: 0.5651 - val_loss: 0.6871 - val_accuracy: 0.6413 - lr: 1.0000e-04\n",
      "Epoch 2/30\n",
      "168/168 [==============================] - ETA: 0s - loss: 0.6531 - accuracy: 0.6607\n",
      "Epoch 2: val_loss improved from 0.68712 to 0.54002, saving model to lstm_bestmod.h5\n",
      "168/168 [==============================] - 12s 74ms/step - loss: 0.6531 - accuracy: 0.6607 - val_loss: 0.5400 - val_accuracy: 0.7302 - lr: 1.0000e-04\n",
      "Epoch 3/30\n",
      "168/168 [==============================] - ETA: 0s - loss: 0.4792 - accuracy: 0.7796\n",
      "Epoch 3: val_loss improved from 0.54002 to 0.44240, saving model to lstm_bestmod.h5\n",
      "168/168 [==============================] - 13s 77ms/step - loss: 0.4792 - accuracy: 0.7796 - val_loss: 0.4424 - val_accuracy: 0.7894 - lr: 1.0000e-04\n",
      "Epoch 4/30\n",
      "168/168 [==============================] - ETA: 0s - loss: 0.3828 - accuracy: 0.8388\n",
      "Epoch 4: val_loss improved from 0.44240 to 0.43657, saving model to lstm_bestmod.h5\n",
      "168/168 [==============================] - 13s 77ms/step - loss: 0.3828 - accuracy: 0.8388 - val_loss: 0.4366 - val_accuracy: 0.8042 - lr: 1.0000e-04\n",
      "Epoch 5/30\n",
      "168/168 [==============================] - ETA: 0s - loss: 0.3247 - accuracy: 0.8648\n",
      "Epoch 5: val_loss did not improve from 0.43657\n",
      "168/168 [==============================] - 13s 79ms/step - loss: 0.3247 - accuracy: 0.8648 - val_loss: 0.4504 - val_accuracy: 0.8032 - lr: 1.0000e-04\n",
      "Epoch 6/30\n",
      "168/168 [==============================] - ETA: 0s - loss: 0.2943 - accuracy: 0.8827\n",
      "Epoch 6: val_loss did not improve from 0.43657\n",
      "168/168 [==============================] - 13s 78ms/step - loss: 0.2943 - accuracy: 0.8827 - val_loss: 0.5228 - val_accuracy: 0.8021 - lr: 1.0000e-04\n",
      "Epoch 7/30\n",
      "168/168 [==============================] - ETA: 0s - loss: 0.2648 - accuracy: 0.8930\n",
      "Epoch 7: val_loss did not improve from 0.43657\n",
      "168/168 [==============================] - 13s 78ms/step - loss: 0.2648 - accuracy: 0.8930 - val_loss: 0.5378 - val_accuracy: 0.7958 - lr: 1.0000e-04\n",
      "Epoch 8/30\n",
      "168/168 [==============================] - ETA: 0s - loss: 0.2373 - accuracy: 0.9066\n",
      "Epoch 8: val_loss did not improve from 0.43657\n",
      "168/168 [==============================] - 13s 79ms/step - loss: 0.2373 - accuracy: 0.9066 - val_loss: 0.5788 - val_accuracy: 0.7873 - lr: 1.0000e-04\n",
      "Epoch 9/30\n",
      "168/168 [==============================] - ETA: 0s - loss: 0.2150 - accuracy: 0.9167\n",
      "Epoch 9: val_loss did not improve from 0.43657\n",
      "168/168 [==============================] - 14s 85ms/step - loss: 0.2150 - accuracy: 0.9167 - val_loss: 0.6696 - val_accuracy: 0.7905 - lr: 1.0000e-04\n",
      "Epoch 10/30\n",
      "168/168 [==============================] - ETA: 0s - loss: 0.1991 - accuracy: 0.9262\n",
      "Epoch 10: val_loss did not improve from 0.43657\n",
      "168/168 [==============================] - 14s 86ms/step - loss: 0.1991 - accuracy: 0.9262 - val_loss: 0.6364 - val_accuracy: 0.7820 - lr: 1.0000e-04\n",
      "Epoch 11/30\n",
      "168/168 [==============================] - ETA: 0s - loss: 0.1728 - accuracy: 0.9365\n",
      "Epoch 11: val_loss did not improve from 0.43657\n",
      "168/168 [==============================] - 13s 79ms/step - loss: 0.1728 - accuracy: 0.9365 - val_loss: 0.7296 - val_accuracy: 0.7810 - lr: 2.0000e-05\n",
      "Epoch 12/30\n",
      "168/168 [==============================] - ETA: 0s - loss: 0.1645 - accuracy: 0.9393\n",
      "Epoch 12: val_loss did not improve from 0.43657\n",
      "168/168 [==============================] - 13s 77ms/step - loss: 0.1645 - accuracy: 0.9393 - val_loss: 0.9162 - val_accuracy: 0.7820 - lr: 2.0000e-05\n"
     ]
    }
   ],
   "source": [
    "num_eps = 30\n",
    "batches= 32\n",
    "\n",
    "##Model train\n",
    "histlstm = modlstm.fit(X_train_vect, \n",
    "                       y_train, \n",
    "                       batch_size= batches, \n",
    "                       epochs= num_eps, \n",
    "                       callbacks=[early_stop1, model_cp1, reduce_lr1],\n",
    "                       validation_data=(X_val_vect, y_val))"
   ]
  },
  {
   "cell_type": "code",
   "execution_count": 53,
   "id": "88cdd54b-cc80-4207-a37f-189ce052b398",
   "metadata": {},
   "outputs": [
    {
     "data": {
      "image/png": "[encoded data removed]",
      "text/plain": [
       "<Figure size 1200x300 with 2 Axes>"
      ]
     },
     "metadata": {},
     "output_type": "display_data"
    }
   ],
   "source": [
    "# Plotting training and validation loss and accuracy\n",
    "plt.figure(figsize=(12,3))\n",
    "\n",
    "plt.subplot(1, 2, 1)\n",
    "plt.plot(histlstm.history['loss'], label='train loss', color= \"blue\")\n",
    "plt.plot(histlstm.history['val_loss'], label='val loss', color=\"red\")\n",
    "plt.legend()\n",
    "plt.title('Loss')\n",
    "\n",
    "plt.subplot(1, 2, 2)\n",
    "plt.plot(histlstm.history['accuracy'], label='train accuracy', color= \"orange\")\n",
    "plt.plot(histlstm.history['val_accuracy'], label='val Accuracy', color= \"purple\")\n",
    "plt.legend()\n",
    "plt.title('Accuracy')\n",
    "\n",
    "# plt.subplot(1, 2, 3)\n",
    "# plt.plot(modhist.history['auc'], label='train AUC', color= \"brown\")\n",
    "# plt.plot(modhist.history['val_auc'], label='val AUC', color= \"green\")\n",
    "# plt.legend()\n",
    "# plt.title('AUC')\n",
    "\n",
    "plt.tight_layout()\n",
    "plt.show()"
   ]
  },
  {
   "cell_type": "code",
   "execution_count": 206,
   "id": "e0ed5bf0-972f-4040-9fad-a501ba3afd2a",
   "metadata": {},
   "outputs": [
    {
     "name": "stdout",
     "output_type": "stream",
     "text": [
      "30/30 [==============================] - 1s 16ms/step - loss: 0.4366 - accuracy: 0.8042\n",
      "Val Accuracy of Best Model= 0.8042327761650085\n"
     ]
    }
   ],
   "source": [
    "##Save best LSTM model\n",
    "\n",
    "model_path2= work_dir+'/lstm_bestmod.h5'\n",
    "loadmod2= load_model(model_path2)\n",
    "val_loss2, val_acc2 = loadmod2.evaluate(X_val_vect, y_val)\n",
    "print(\"Val Accuracy of Best Model=\", val_acc2)\n",
    "acc.append(round(val_acc2,4))\n",
    "loss.append(round(val_loss2,4))"
   ]
  },
  {
   "cell_type": "code",
   "execution_count": 207,
   "id": "8f038594-eee6-4ed8-9637-476ce3b7445c",
   "metadata": {},
   "outputs": [
    {
     "data": {
      "text/plain": [
       "[0.805, 0.8042]"
      ]
     },
     "execution_count": 207,
     "metadata": {},
     "output_type": "execute_result"
    }
   ],
   "source": [
    "acc"
   ]
  },
  {
   "cell_type": "code",
   "execution_count": 208,
   "id": "a814835f-f24d-4ad2-a8ff-30d57779e776",
   "metadata": {
    "tags": []
   },
   "outputs": [
    {
     "data": {
      "text/plain": [
       "[0.461, 0.4366]"
      ]
     },
     "execution_count": 208,
     "metadata": {},
     "output_type": "execute_result"
    }
   ],
   "source": [
    "loss"
   ]
  },
  {
   "cell_type": "markdown",
   "id": "abdd08a5-fa38-498b-a724-92642d3c36d2",
   "metadata": {},
   "source": [
    "## Model Architecture 3: GRU\n",
    "\n",
    "GRU stands for Gated Reccurrent Unit is a type of recurrent neural network (RNN) that is similar to LSTM but lacks a context vector or output gate. It is also a useful RNN that is effective for modelling sequential dating and addressing the vanishing-exploding gradient problem.\n",
    "\n",
    "Our architecture is identical to LSTM and consists of the following:\n",
    "\n",
    "1. An Embedding layer cor creating word embeddings. The integer-encoded vocabulary is transformed into a dense vector of output_dim.\n",
    "2. An LSTM with 128 units and an activaation \"relu\"\n",
    "3. A drop out layer of 0.5 for regularization. This is used to reduce overfitting but randonly selecting a portion of input units and set it to 0 for training and introducing noise.\n",
    "4. A dense layer od 100 units with relu activation for high level feature extraction\n",
    "5. A dense layer of 1 unit for binary class probability predictions"
   ]
  },
  {
   "cell_type": "code",
   "execution_count": 57,
   "id": "0a8bd448-fedf-4a3b-a678-127d8b123347",
   "metadata": {
    "tags": []
   },
   "outputs": [
    {
     "name": "stdout",
     "output_type": "stream",
     "text": [
      "Model: \"sequential_1\"\n",
      "_________________________________________________________________\n",
      " Layer (type)                Output Shape              Param #   \n",
      "=================================================================\n",
      " embedding_1 (Embedding)     (None, 30, 128)           512000    \n",
      "                                                                 \n",
      " lstm_1 (LSTM)               (None, 128)               131584    \n",
      "                                                                 \n",
      " dropout_1 (Dropout)         (None, 128)               0         \n",
      "                                                                 \n",
      " dense_2 (Dense)             (None, 128)               16512     \n",
      "                                                                 \n",
      " dense_3 (Dense)             (None, 1)                 129       \n",
      "                                                                 \n",
      "=================================================================\n",
      "Total params: 660,225\n",
      "Trainable params: 660,225\n",
      "Non-trainable params: 0\n",
      "_________________________________________________________________\n"
     ]
    }
   ],
   "source": [
    "# Parameters\n",
    "embedding_dim = 128\n",
    "vocab_size=4000 \n",
    "max_len= 30\n",
    "\n",
    "gru_mod = Sequential()\n",
    "gru_mod.add(Embedding(input_dim=vocab_size, output_dim=embedding_dim, input_length=max_len))\n",
    "# gru_mod.add(GRU(units=100, activation='tanh', return_sequences=False))\n",
    "# gru_mod.add(Dense(units=256, activation='relu'))\n",
    "gru_mod.add(LSTM(128, activation='relu'))\n",
    "gru_mod.add(Dropout(0.5))\n",
    "gru_mod.add(Dense(128, activation='relu'))\n",
    "gru_mod.add(Dense(units=1, activation='sigmoid'))\n",
    "\n",
    "##compile the data\n",
    "optimizers = Adam(learning_rate=0.0001)\n",
    "# optimizers = Adagrad(learning_rate=0.0001)\n",
    "gru_mod.compile(loss='binary_crossentropy',\n",
    "                   optimizer=optimizers,\n",
    "                   metrics=['accuracy'])\n",
    "\n",
    "# Display the model summary\n",
    "gru_mod.summary()"
   ]
  },
  {
   "cell_type": "code",
   "execution_count": 58,
   "id": "9458af8e-a4ba-4c70-af18-525347772776",
   "metadata": {
    "tags": []
   },
   "outputs": [],
   "source": [
    "early_stop2 = EarlyStopping(monitor='val_loss', \n",
    "                           patience=8, \n",
    "                           restore_best_weights=True)\n",
    "model_cp2 = ModelCheckpoint(\"gru_bestmod.h5\",\n",
    "                           monitor= 'val_loss',\n",
    "                           verbose= 1,\n",
    "                           save_best_only=True)\n",
    "reduce_lr2 = ReduceLROnPlateau(monitor='val_loss', \n",
    "                              factor=0.2, \n",
    "                              patience=6, \n",
    "                              min_lr=0.00001)"
   ]
  },
  {
   "cell_type": "code",
   "execution_count": 59,
   "id": "50760ad0-88b6-444b-97b2-800abcc0ec5d",
   "metadata": {
    "tags": []
   },
   "outputs": [
    {
     "name": "stdout",
     "output_type": "stream",
     "text": [
      "Epoch 1/30\n",
      "168/168 [==============================] - ETA: 0s - loss: 0.6918 - accuracy: 0.5529\n",
      "Epoch 1: val_loss improved from inf to 0.68752, saving model to gru_bestmod.h5\n",
      "168/168 [==============================] - 14s 78ms/step - loss: 0.6918 - accuracy: 0.5529 - val_loss: 0.6875 - val_accuracy: 0.6709 - lr: 1.0000e-04\n",
      "Epoch 2/30\n",
      "168/168 [==============================] - ETA: 0s - loss: 0.6596 - accuracy: 0.6495\n",
      "Epoch 2: val_loss improved from 0.68752 to 0.56346, saving model to gru_bestmod.h5\n",
      "168/168 [==============================] - 13s 80ms/step - loss: 0.6596 - accuracy: 0.6495 - val_loss: 0.5635 - val_accuracy: 0.7407 - lr: 1.0000e-04\n",
      "Epoch 3/30\n",
      "168/168 [==============================] - ETA: 0s - loss: 0.4854 - accuracy: 0.7802\n",
      "Epoch 3: val_loss improved from 0.56346 to 0.44825, saving model to gru_bestmod.h5\n",
      "168/168 [==============================] - 12s 74ms/step - loss: 0.4854 - accuracy: 0.7802 - val_loss: 0.4483 - val_accuracy: 0.7746 - lr: 1.0000e-04\n",
      "Epoch 4/30\n",
      "168/168 [==============================] - ETA: 0s - loss: 0.3958 - accuracy: 0.8314\n",
      "Epoch 4: val_loss improved from 0.44825 to 0.42301, saving model to gru_bestmod.h5\n",
      "168/168 [==============================] - 13s 78ms/step - loss: 0.3958 - accuracy: 0.8314 - val_loss: 0.4230 - val_accuracy: 0.7926 - lr: 1.0000e-04\n",
      "Epoch 5/30\n",
      "168/168 [==============================] - ETA: 0s - loss: 0.3389 - accuracy: 0.8657\n",
      "Epoch 5: val_loss did not improve from 0.42301\n",
      "168/168 [==============================] - 13s 75ms/step - loss: 0.3389 - accuracy: 0.8657 - val_loss: 0.4568 - val_accuracy: 0.8042 - lr: 1.0000e-04\n",
      "Epoch 6/30\n",
      "168/168 [==============================] - ETA: 0s - loss: 0.3052 - accuracy: 0.8736\n",
      "Epoch 6: val_loss did not improve from 0.42301\n",
      "168/168 [==============================] - 13s 77ms/step - loss: 0.3052 - accuracy: 0.8736 - val_loss: 0.5117 - val_accuracy: 0.7968 - lr: 1.0000e-04\n",
      "Epoch 7/30\n",
      "168/168 [==============================] - ETA: 0s - loss: 0.2776 - accuracy: 0.8896\n",
      "Epoch 7: val_loss did not improve from 0.42301\n",
      "168/168 [==============================] - 12s 73ms/step - loss: 0.2776 - accuracy: 0.8896 - val_loss: 0.5045 - val_accuracy: 0.8032 - lr: 1.0000e-04\n",
      "Epoch 8/30\n",
      "168/168 [==============================] - ETA: 0s - loss: 0.2527 - accuracy: 0.9003\n",
      "Epoch 8: val_loss did not improve from 0.42301\n",
      "168/168 [==============================] - 12s 74ms/step - loss: 0.2527 - accuracy: 0.9003 - val_loss: 0.5515 - val_accuracy: 0.7937 - lr: 1.0000e-04\n",
      "Epoch 9/30\n",
      "168/168 [==============================] - ETA: 0s - loss: 0.2302 - accuracy: 0.9111\n",
      "Epoch 9: val_loss did not improve from 0.42301\n",
      "168/168 [==============================] - 13s 76ms/step - loss: 0.2302 - accuracy: 0.9111 - val_loss: 0.5675 - val_accuracy: 0.7979 - lr: 1.0000e-04\n",
      "Epoch 10/30\n",
      "168/168 [==============================] - ETA: 0s - loss: 0.2064 - accuracy: 0.9246\n",
      "Epoch 10: val_loss did not improve from 0.42301\n",
      "168/168 [==============================] - 12s 73ms/step - loss: 0.2064 - accuracy: 0.9246 - val_loss: 0.7811 - val_accuracy: 0.7852 - lr: 1.0000e-04\n",
      "Epoch 11/30\n",
      "168/168 [==============================] - ETA: 0s - loss: 0.1747 - accuracy: 0.9365\n",
      "Epoch 11: val_loss did not improve from 0.42301\n",
      "168/168 [==============================] - 12s 73ms/step - loss: 0.1747 - accuracy: 0.9365 - val_loss: 0.8238 - val_accuracy: 0.7884 - lr: 2.0000e-05\n",
      "Epoch 12/30\n",
      "168/168 [==============================] - ETA: 0s - loss: 0.1685 - accuracy: 0.9402\n",
      "Epoch 12: val_loss did not improve from 0.42301\n",
      "168/168 [==============================] - 12s 74ms/step - loss: 0.1685 - accuracy: 0.9402 - val_loss: 0.9574 - val_accuracy: 0.7831 - lr: 2.0000e-05\n"
     ]
    }
   ],
   "source": [
    "num_eps = 30\n",
    "batches= 32\n",
    "\n",
    "##Model train\n",
    "histgru = gru_mod.fit(X_train_vect, \n",
    "                       y_train, \n",
    "                       batch_size= batches, \n",
    "                       epochs= num_eps, \n",
    "                       callbacks=[early_stop2, model_cp2, reduce_lr2],\n",
    "                       validation_data=(X_val_vect, y_val))"
   ]
  },
  {
   "cell_type": "code",
   "execution_count": 60,
   "id": "751a5acc-e7b1-4f23-a117-1e39ac9e1046",
   "metadata": {
    "tags": []
   },
   "outputs": [
    {
     "data": {
      "image/png": "[encoded data removed]",
      "text/plain": [
       "<Figure size 1200x300 with 2 Axes>"
      ]
     },
     "metadata": {},
     "output_type": "display_data"
    }
   ],
   "source": [
    "# Plotting training and validation loss and accuracy\n",
    "plt.figure(figsize=(12,3))\n",
    "\n",
    "plt.subplot(1, 2, 1)\n",
    "plt.plot(histgru.history['loss'], label='train loss', color= \"blue\")\n",
    "plt.plot(histgru.history['val_loss'], label='val loss', color=\"red\")\n",
    "plt.legend()\n",
    "plt.title('Loss')\n",
    "\n",
    "plt.subplot(1, 2, 2)\n",
    "plt.plot(histgru.history['accuracy'], label='train accuracy', color= \"orange\")\n",
    "plt.plot(histgru.history['val_accuracy'], label='val Accuracy', color= \"purple\")\n",
    "plt.legend()\n",
    "plt.title('Accuracy')\n",
    "\n",
    "plt.tight_layout()\n",
    "plt.show()"
   ]
  },
  {
   "cell_type": "code",
   "execution_count": 209,
   "id": "f9738682-cb64-4bdb-924f-36cf963228a3",
   "metadata": {},
   "outputs": [
    {
     "name": "stdout",
     "output_type": "stream",
     "text": [
      "30/30 [==============================] - 1s 15ms/step - loss: 0.4230 - accuracy: 0.7926\n",
      "Val Accuracy of Best Model= 0.7925925850868225\n"
     ]
    }
   ],
   "source": [
    "##Save best GRU model\n",
    "\n",
    "model_path3= work_dir+'/gru_bestmod.h5'\n",
    "loadmod3= load_model(model_path3)\n",
    "val_loss3, val_acc3 = loadmod3.evaluate(X_val_vect, y_val)\n",
    "print(\"Val Accuracy of Best Model=\", val_acc3)\n",
    "acc.append(round(val_acc3,4))\n",
    "loss.append(round(val_loss3,4))"
   ]
  },
  {
   "cell_type": "code",
   "execution_count": 210,
   "id": "191e80ee-300c-448b-ba56-68a517434a0b",
   "metadata": {
    "tags": []
   },
   "outputs": [
    {
     "data": {
      "text/plain": [
       "[0.805, 0.8042, 0.7926]"
      ]
     },
     "execution_count": 210,
     "metadata": {},
     "output_type": "execute_result"
    }
   ],
   "source": [
    "acc"
   ]
  },
  {
   "cell_type": "code",
   "execution_count": 211,
   "id": "eeee70f7-0c97-475d-8257-4bef57af7ac8",
   "metadata": {
    "tags": []
   },
   "outputs": [
    {
     "data": {
      "text/plain": [
       "[0.461, 0.4366, 0.423]"
      ]
     },
     "execution_count": 211,
     "metadata": {},
     "output_type": "execute_result"
    }
   ],
   "source": [
    "loss"
   ]
  },
  {
   "cell_type": "markdown",
   "id": "e33d3f2f-f8b7-483f-8601-de3ed5d7b526",
   "metadata": {},
   "source": [
    "## Hyperparameter tuning and building upon LSTM model\n",
    "\n",
    "After testing out many different hyperparameter values including changes in batch size, several layers and filter sizes, different optimizers and learning rates, the below model architecture is an improvement over the intial LSTM model.\n",
    "\n",
    "Along with the below layers from the orginal model architectures....\n",
    "\n",
    "1. An Embedding layer for creating word embeddings. The integer-encoded vocabulary is transformed into a dense vector of output_dim.\n",
    "2. An LSTM with 128 units and an activation \"relu\"\n",
    "3. A drop out layer of 0.5 for regularization. This is used to reduce overfitting but randonly selecting a portion of input units and set it to 0 for training and introducing noise.\n",
    "4. A dense layer of 1 unit for binary class probability predictions\n",
    "\n",
    "This model architecture includes the additional following:\n",
    "\n",
    "1. Decrease embedding dim size for reducing model complexity\n",
    "2. Increase word size from 4000 to 10000 to capture larger relationships\n",
    "2. Bidirectional layers to process data forward and backwards. Includes 128 units and 64 units. Captures information in both directions.\n",
    "3. Includes a dropout layer after the second Bidirectinoal layer. This is important because it helps to reduce overfitting by randomly dropping neurons and by preventing neurons from relying to much on eachother, forcing network to learn more robust features of the data.\n",
    "4. Batch normalization layer is also included as a regularization technique to improve the traiing speed and stability of the neural networks at each layer.\n",
    "5. Remove dense layer 128."
   ]
  },
  {
   "cell_type": "code",
   "execution_count": 202,
   "id": "c68cc4cd-fde2-452c-b2c1-bda0ddc7c36f",
   "metadata": {},
   "outputs": [
    {
     "name": "stdout",
     "output_type": "stream",
     "text": [
      "Model: \"sequential_40\"\n",
      "_________________________________________________________________\n",
      " Layer (type)                Output Shape              Param #   \n",
      "=================================================================\n",
      " embedding_40 (Embedding)    (None, 30, 64)            640000    \n",
      "                                                                 \n",
      " bidirectional_77 (Bidirecti  (None, 30, 256)          197632    \n",
      " onal)                                                           \n",
      "                                                                 \n",
      " dropout_78 (Dropout)        (None, 30, 256)           0         \n",
      "                                                                 \n",
      " bidirectional_78 (Bidirecti  (None, 128)              164352    \n",
      " onal)                                                           \n",
      "                                                                 \n",
      " dropout_79 (Dropout)        (None, 128)               0         \n",
      "                                                                 \n",
      " batch_normalization_38 (Bat  (None, 128)              512       \n",
      " chNormalization)                                                \n",
      "                                                                 \n",
      " dense_50 (Dense)            (None, 1)                 129       \n",
      "                                                                 \n",
      "=================================================================\n",
      "Total params: 1,002,625\n",
      "Trainable params: 1,002,369\n",
      "Non-trainable params: 256\n",
      "_________________________________________________________________\n"
     ]
    }
   ],
   "source": [
    "##model tuned\n",
    "embedding_dim = 64\n",
    "vocab_size= 10000\n",
    "max_len= 30\n",
    "\n",
    "model3 = Sequential()\n",
    "model3.add(Embedding(input_dim=vocab_size, \n",
    "                     output_dim=embedding_dim, \n",
    "                     input_length=max_len))\n",
    "# model3.add(Embedding(input_dim= 20000, \n",
    "#                      output_dim= 128, \n",
    "#                      input_length= max_len))\n",
    "model3.add(Bidirectional(LSTM(units=128, activation='relu', return_sequences=True)))\n",
    "model3.add(Dropout(0.5))\n",
    "model3.add(Bidirectional(LSTM(units=64, activation='relu')))\n",
    "model3.add(Dropout(0.5))\n",
    "# model3.add(Bidirectional(LSTM(units=50, activation='relu')))\n",
    "# model3.add(Dropout(0.5))\n",
    "## batch norm for stability\n",
    "model3.add(BatchNormalization())  \n",
    "# model3.add(Flatten())\n",
    "# model3.add(Dense(units=128, activation='relu'))\n",
    "model3.add(Dense(units=1, activation='sigmoid'))\n",
    "\n",
    "## compile and add gradient clipping\n",
    "optimizer = Adam(learning_rate=0.0001, clipvalue=0.5)\n",
    "model3.compile(optimizer=optimizer, loss='binary_crossentropy', metrics=['accuracy'])\n",
    "\n",
    "##model3 summary\n",
    "model3.summary()"
   ]
  },
  {
   "cell_type": "code",
   "execution_count": 203,
   "id": "c6c02b47-6fb9-4743-a2fc-d92a1152201b",
   "metadata": {},
   "outputs": [],
   "source": [
    "early_stop3 = EarlyStopping(monitor='val_loss', \n",
    "                           patience=6, \n",
    "                           restore_best_weights=True)\n",
    "model_cp3 = ModelCheckpoint(\"tuned_bestmod.h5\",\n",
    "                           monitor= 'val_loss',\n",
    "                           verbose= 1,\n",
    "                           save_best_only=True)\n",
    "reduce_lr3 = ReduceLROnPlateau(monitor='val_loss', \n",
    "                              factor=0.2, \n",
    "                              patience=4, \n",
    "                              min_lr=0.00001)"
   ]
  },
  {
   "cell_type": "code",
   "execution_count": 204,
   "id": "f7a7fd9f-eaa3-4bde-9119-e317ea4f10e9",
   "metadata": {
    "tags": []
   },
   "outputs": [
    {
     "name": "stdout",
     "output_type": "stream",
     "text": [
      "Epoch 1/20\n",
      "168/168 [==============================] - ETA: 0s - loss: 0.6896 - accuracy: 0.5283\n",
      "Epoch 1: val_loss improved from inf to 0.68997, saving model to tuned_bestmod.h5\n",
      "168/168 [==============================] - 56s 304ms/step - loss: 0.6896 - accuracy: 0.5283 - val_loss: 0.6900 - val_accuracy: 0.6466 - lr: 1.0000e-04\n",
      "Epoch 2/20\n",
      "168/168 [==============================] - ETA: 0s - loss: 0.6335 - accuracy: 0.6458\n",
      "Epoch 2: val_loss improved from 0.68997 to 0.64991, saving model to tuned_bestmod.h5\n",
      "168/168 [==============================] - 50s 296ms/step - loss: 0.6335 - accuracy: 0.6458 - val_loss: 0.6499 - val_accuracy: 0.7725 - lr: 1.0000e-04\n",
      "Epoch 3/20\n",
      "168/168 [==============================] - ETA: 0s - loss: 0.4514 - accuracy: 0.7970\n",
      "Epoch 3: val_loss improved from 0.64991 to 0.46784, saving model to tuned_bestmod.h5\n",
      "168/168 [==============================] - 50s 296ms/step - loss: 0.4514 - accuracy: 0.7970 - val_loss: 0.4678 - val_accuracy: 0.7968 - lr: 1.0000e-04\n",
      "Epoch 4/20\n",
      "168/168 [==============================] - ETA: 0s - loss: 0.3548 - accuracy: 0.8538\n",
      "Epoch 4: val_loss improved from 0.46784 to 0.43195, saving model to tuned_bestmod.h5\n",
      "168/168 [==============================] - 49s 293ms/step - loss: 0.3548 - accuracy: 0.8538 - val_loss: 0.4320 - val_accuracy: 0.8032 - lr: 1.0000e-04\n",
      "Epoch 5/20\n",
      "168/168 [==============================] - ETA: 0s - loss: 0.2890 - accuracy: 0.8891\n",
      "Epoch 5: val_loss did not improve from 0.43195\n",
      "168/168 [==============================] - 51s 302ms/step - loss: 0.2890 - accuracy: 0.8891 - val_loss: 0.4989 - val_accuracy: 0.7894 - lr: 1.0000e-04\n",
      "Epoch 6/20\n",
      "168/168 [==============================] - ETA: 0s - loss: 0.2460 - accuracy: 0.9107\n",
      "Epoch 6: val_loss did not improve from 0.43195\n",
      "168/168 [==============================] - 52s 308ms/step - loss: 0.2460 - accuracy: 0.9107 - val_loss: 0.5792 - val_accuracy: 0.7714 - lr: 1.0000e-04\n",
      "Epoch 7/20\n",
      "168/168 [==============================] - ETA: 0s - loss: 0.2051 - accuracy: 0.9287\n",
      "Epoch 7: val_loss did not improve from 0.43195\n",
      "168/168 [==============================] - 50s 298ms/step - loss: 0.2051 - accuracy: 0.9287 - val_loss: 0.6233 - val_accuracy: 0.7746 - lr: 1.0000e-04\n",
      "Epoch 8/20\n",
      "168/168 [==============================] - ETA: 0s - loss: 0.1792 - accuracy: 0.9378\n",
      "Epoch 8: val_loss did not improve from 0.43195\n",
      "168/168 [==============================] - 49s 292ms/step - loss: 0.1792 - accuracy: 0.9378 - val_loss: 0.6871 - val_accuracy: 0.7757 - lr: 1.0000e-04\n",
      "Epoch 9/20\n",
      "168/168 [==============================] - ETA: 0s - loss: 0.1310 - accuracy: 0.9621\n",
      "Epoch 9: val_loss did not improve from 0.43195\n",
      "168/168 [==============================] - 48s 285ms/step - loss: 0.1310 - accuracy: 0.9621 - val_loss: 0.7561 - val_accuracy: 0.7831 - lr: 2.0000e-05\n",
      "Epoch 10/20\n",
      "168/168 [==============================] - ETA: 0s - loss: 0.1216 - accuracy: 0.9655\n",
      "Epoch 10: val_loss did not improve from 0.43195\n",
      "168/168 [==============================] - 49s 291ms/step - loss: 0.1216 - accuracy: 0.9655 - val_loss: 0.7920 - val_accuracy: 0.7767 - lr: 2.0000e-05\n"
     ]
    }
   ],
   "source": [
    "num_eps = 20\n",
    "# batches= 64\n",
    "batches= 32\n",
    "\n",
    "##Model train\n",
    "modhist3 = model3.fit(X_train_vect, \n",
    "                       y_train, \n",
    "                       batch_size= batches, \n",
    "                       epochs= num_eps, \n",
    "                       callbacks=[early_stop3, model_cp3, reduce_lr3],\n",
    "                       validation_data=(X_val_vect, y_val))"
   ]
  },
  {
   "cell_type": "markdown",
   "id": "7e48e01e-939d-4c13-b4c1-5212461060b4",
   "metadata": {},
   "source": [
    "### Tuned Model Evaluation"
   ]
  },
  {
   "cell_type": "code",
   "execution_count": 170,
   "id": "776e9acc-5d53-48ff-8180-a4333d98bf20",
   "metadata": {},
   "outputs": [
    {
     "data": {
      "image/png": "[encoded data removed]",
      "text/plain": [
       "<Figure size 1200x300 with 2 Axes>"
      ]
     },
     "metadata": {},
     "output_type": "display_data"
    }
   ],
   "source": [
    "# Plotting training and validation loss and accuracy for model 2\n",
    "plt.figure(figsize=(12,3))\n",
    "\n",
    "plt.subplot(1, 2, 1)\n",
    "plt.plot(modhist3.history['loss'], label='train loss', color= \"blue\")\n",
    "plt.plot(modhist3.history['val_loss'], label='val loss', color=\"red\")\n",
    "plt.legend()\n",
    "plt.title('Loss')\n",
    "\n",
    "plt.subplot(1, 2, 2)\n",
    "plt.plot(modhist3.history['accuracy'], label='train accuracy', color= \"orange\")\n",
    "plt.plot(modhist3.history['val_accuracy'], label='val Accuracy', color= \"purple\")\n",
    "plt.legend()\n",
    "plt.title('Accuracy')\n",
    "\n",
    "plt.tight_layout()\n",
    "plt.show()"
   ]
  },
  {
   "cell_type": "code",
   "execution_count": 212,
   "id": "bf0ab1f1-5b3e-423f-bd1b-95ceb356d7bf",
   "metadata": {},
   "outputs": [
    {
     "name": "stdout",
     "output_type": "stream",
     "text": [
      "30/30 [==============================] - 2s 46ms/step - loss: 0.4320 - accuracy: 0.8032\n",
      "Val Accuracy of Best Model= 0.803174614906311\n"
     ]
    }
   ],
   "source": [
    "##Save best Tuned model\n",
    "\n",
    "model_path4= work_dir+'/tuned_bestmod.h5'\n",
    "loadmod4= load_model(model_path4)\n",
    "val_loss4, val_acc4 = loadmod4.evaluate(X_val_vect, y_val)\n",
    "print(\"Val Accuracy of Best Model=\", val_acc4)\n",
    "acc.append(round(val_acc4,4))\n",
    "loss.append(round(val_loss4,4))"
   ]
  },
  {
   "cell_type": "code",
   "execution_count": 213,
   "id": "4ccf7c58-d117-4a4e-8e5a-47620f03792f",
   "metadata": {
    "tags": []
   },
   "outputs": [
    {
     "data": {
      "text/plain": [
       "[0.805, 0.8042, 0.7926, 0.8032]"
      ]
     },
     "execution_count": 213,
     "metadata": {},
     "output_type": "execute_result"
    }
   ],
   "source": [
    "acc"
   ]
  },
  {
   "cell_type": "code",
   "execution_count": 214,
   "id": "c0408006-90b3-46e6-b45c-344c4aae6ace",
   "metadata": {
    "tags": []
   },
   "outputs": [
    {
     "data": {
      "text/plain": [
       "[0.461, 0.4366, 0.423, 0.432]"
      ]
     },
     "execution_count": 214,
     "metadata": {},
     "output_type": "execute_result"
    }
   ],
   "source": [
    "loss"
   ]
  },
  {
   "cell_type": "markdown",
   "id": "33e27528-54e1-44cd-b44d-b3624aa2d83f",
   "metadata": {},
   "source": [
    "Now let's view the overall performance"
   ]
  },
  {
   "cell_type": "code",
   "execution_count": 215,
   "id": "baab8828-42f8-4101-98b5-9bca4e05a0b9",
   "metadata": {
    "tags": []
   },
   "outputs": [],
   "source": [
    "overall_df = pd.DataFrame({'model': ['DistilBERT', 'LSTM', 'GRU', 'Tuned LSTM'],\n",
    "                   'accuracy': acc,\n",
    "                   'loss': loss})"
   ]
  },
  {
   "cell_type": "code",
   "execution_count": 219,
   "id": "67f8a3fb-3d45-4979-b47c-88cf3a5f5e64",
   "metadata": {},
   "outputs": [
    {
     "data": {
      "text/plain": [
       "(0.3, 0.5)"
      ]
     },
     "execution_count": 219,
     "metadata": {},
     "output_type": "execute_result"
    },
    {
     "data": {
      "image/png": "[encoded data removed]",
      "text/plain": [
       "<Figure size 1200x600 with 2 Axes>"
      ]
     },
     "metadata": {},
     "output_type": "display_data"
    }
   ],
   "source": [
    "sns.set(style=\"whitegrid\")\n",
    "plt.figure(figsize=(12, 6))\n",
    "\n",
    "##accuracy\n",
    "plt.subplot(1, 2, 1)\n",
    "ax1 = sns.barplot(x='model', y='accuracy', data=overall_df, color='green')\n",
    "ax1.set_title('Accuracy comparison of all 4 models')\n",
    "ax1.set_ylabel('Accuracy')\n",
    "ax1.set_ylim(0.75, 0.82)\n",
    "#loss\n",
    "plt.subplot(1, 2, 2)\n",
    "ax2 = sns.barplot(x='model', y='loss', data=overall_df, color='purple')\n",
    "ax2.set_title('Loss comparisons of all 4 models')\n",
    "ax2.set_ylabel('Loss')\n",
    "ax2.set_ylim(0.3, 0.50)"
   ]
  },
  {
   "cell_type": "markdown",
   "id": "392a7c4e-40cb-40c3-8611-575f15065c28",
   "metadata": {},
   "source": [
    "All models perform similarly well with the tuned model showing less loss and very close accuracy to the less complex model. We will try predicting test set with both LSTM models to see what our final performance is."
   ]
  },
  {
   "cell_type": "markdown",
   "id": "f092e15e-7320-453f-ab43-54f4f7d14982",
   "metadata": {},
   "source": [
    "## Predict on Test Dataset for Submission"
   ]
  },
  {
   "cell_type": "markdown",
   "id": "5bd4d8cd-13b2-4211-a8a8-5190a9818b81",
   "metadata": {},
   "source": [
    "Finally we will use our best model to predict the testing clasess: 0 for no cancer tumor detected, and 1 for cancerous tumor."
   ]
  },
  {
   "cell_type": "code",
   "execution_count": 175,
   "id": "c7f2e4b8-5a6e-424b-bb56-a3748cc1c377",
   "metadata": {},
   "outputs": [
    {
     "data": {
      "text/html": [
       "<div>\n",
       "<style scoped>\n",
       "    .dataframe tbody tr th:only-of-type {\n",
       "        vertical-align: middle;\n",
       "    }\n",
       "\n",
       "    .dataframe tbody tr th {\n",
       "        vertical-align: top;\n",
       "    }\n",
       "\n",
       "    .dataframe thead th {\n",
       "        text-align: right;\n",
       "    }\n",
       "</style>\n",
       "<table border=\"1\" class=\"dataframe\">\n",
       "  <thead>\n",
       "    <tr style=\"text-align: right;\">\n",
       "      <th></th>\n",
       "      <th>id</th>\n",
       "      <th>keyword</th>\n",
       "      <th>location</th>\n",
       "      <th>text</th>\n",
       "      <th>comb_text</th>\n",
       "      <th>text_len</th>\n",
       "      <th>full_text</th>\n",
       "    </tr>\n",
       "  </thead>\n",
       "  <tbody>\n",
       "    <tr>\n",
       "      <th>0</th>\n",
       "      <td>0</td>\n",
       "      <td></td>\n",
       "      <td>NaN</td>\n",
       "      <td>Just happened a terrible car crash</td>\n",
       "      <td>Just happened a terrible car crash</td>\n",
       "      <td>35</td>\n",
       "      <td>[happened, terrible, car, crash]</td>\n",
       "    </tr>\n",
       "    <tr>\n",
       "      <th>1</th>\n",
       "      <td>2</td>\n",
       "      <td></td>\n",
       "      <td>NaN</td>\n",
       "      <td>Heard about #earthquake is different cities, s...</td>\n",
       "      <td>Heard about #earthquake is different cities, s...</td>\n",
       "      <td>65</td>\n",
       "      <td>[heard, earthquake, different, cities, stay, s...</td>\n",
       "    </tr>\n",
       "    <tr>\n",
       "      <th>2</th>\n",
       "      <td>3</td>\n",
       "      <td></td>\n",
       "      <td>NaN</td>\n",
       "      <td>there is a forest fire at spot pond, geese are...</td>\n",
       "      <td>there is a forest fire at spot pond, geese are...</td>\n",
       "      <td>97</td>\n",
       "      <td>[forest, fire, spot, pond, geese, fleeing, acr...</td>\n",
       "    </tr>\n",
       "    <tr>\n",
       "      <th>3</th>\n",
       "      <td>9</td>\n",
       "      <td></td>\n",
       "      <td>NaN</td>\n",
       "      <td>Apocalypse lighting. #Spokane #wildfires</td>\n",
       "      <td>Apocalypse lighting. #Spokane #wildfires</td>\n",
       "      <td>41</td>\n",
       "      <td>[apocalypse, lighting, spokane, wildfires]</td>\n",
       "    </tr>\n",
       "    <tr>\n",
       "      <th>4</th>\n",
       "      <td>11</td>\n",
       "      <td></td>\n",
       "      <td>NaN</td>\n",
       "      <td>Typhoon Soudelor kills 28 in China and Taiwan</td>\n",
       "      <td>Typhoon Soudelor kills 28 in China and Taiwan</td>\n",
       "      <td>46</td>\n",
       "      <td>[typhoon, soudelor, kills, china, taiwan]</td>\n",
       "    </tr>\n",
       "  </tbody>\n",
       "</table>\n",
       "</div>"
      ],
      "text/plain": [
       "   id keyword location                                               text  \\\n",
       "0   0              NaN                 Just happened a terrible car crash   \n",
       "1   2              NaN  Heard about #earthquake is different cities, s...   \n",
       "2   3              NaN  there is a forest fire at spot pond, geese are...   \n",
       "3   9              NaN           Apocalypse lighting. #Spokane #wildfires   \n",
       "4  11              NaN      Typhoon Soudelor kills 28 in China and Taiwan   \n",
       "\n",
       "                                           comb_text  text_len  \\\n",
       "0                Just happened a terrible car crash         35   \n",
       "1  Heard about #earthquake is different cities, s...        65   \n",
       "2  there is a forest fire at spot pond, geese are...        97   \n",
       "3          Apocalypse lighting. #Spokane #wildfires         41   \n",
       "4     Typhoon Soudelor kills 28 in China and Taiwan         46   \n",
       "\n",
       "                                           full_text  \n",
       "0                   [happened, terrible, car, crash]  \n",
       "1  [heard, earthquake, different, cities, stay, s...  \n",
       "2  [forest, fire, spot, pond, geese, fleeing, acr...  \n",
       "3         [apocalypse, lighting, spokane, wildfires]  \n",
       "4          [typhoon, soudelor, kills, china, taiwan]  "
      ]
     },
     "execution_count": 175,
     "metadata": {},
     "output_type": "execute_result"
    }
   ],
   "source": [
    "##prep test_df\n",
    "test_df.head()"
   ]
  },
  {
   "cell_type": "code",
   "execution_count": 187,
   "id": "fc387bf2-de68-4629-b69c-d990d9304998",
   "metadata": {},
   "outputs": [],
   "source": [
    "##Load top modell=\n",
    "# load_model('bestmodel.h5')\n",
    "model_path= work_dir+'/lstm_bestmod.h5'\n",
    "loadmod= load_model(model_path)"
   ]
  },
  {
   "cell_type": "code",
   "execution_count": 188,
   "id": "f694e13a-3bb7-4d95-ac03-9a42861f49f6",
   "metadata": {},
   "outputs": [
    {
     "name": "stdout",
     "output_type": "stream",
     "text": [
      "102/102 [==============================] - 2s 13ms/step\n"
     ]
    }
   ],
   "source": [
    "#run model to find predictions\n",
    "preds = loadmod.predict(X_test_vect)"
   ]
  },
  {
   "cell_type": "code",
   "execution_count": 189,
   "id": "51d0cd90-59eb-4d5d-a61f-716002ec9f1a",
   "metadata": {},
   "outputs": [
    {
     "data": {
      "text/html": [
       "<div>\n",
       "<style scoped>\n",
       "    .dataframe tbody tr th:only-of-type {\n",
       "        vertical-align: middle;\n",
       "    }\n",
       "\n",
       "    .dataframe tbody tr th {\n",
       "        vertical-align: top;\n",
       "    }\n",
       "\n",
       "    .dataframe thead th {\n",
       "        text-align: right;\n",
       "    }\n",
       "</style>\n",
       "<table border=\"1\" class=\"dataframe\">\n",
       "  <thead>\n",
       "    <tr style=\"text-align: right;\">\n",
       "      <th></th>\n",
       "      <th>id</th>\n",
       "      <th>target</th>\n",
       "    </tr>\n",
       "  </thead>\n",
       "  <tbody>\n",
       "    <tr>\n",
       "      <th>0</th>\n",
       "      <td>0</td>\n",
       "      <td>1</td>\n",
       "    </tr>\n",
       "    <tr>\n",
       "      <th>1</th>\n",
       "      <td>2</td>\n",
       "      <td>1</td>\n",
       "    </tr>\n",
       "    <tr>\n",
       "      <th>2</th>\n",
       "      <td>3</td>\n",
       "      <td>1</td>\n",
       "    </tr>\n",
       "    <tr>\n",
       "      <th>3</th>\n",
       "      <td>9</td>\n",
       "      <td>0</td>\n",
       "    </tr>\n",
       "    <tr>\n",
       "      <th>4</th>\n",
       "      <td>11</td>\n",
       "      <td>1</td>\n",
       "    </tr>\n",
       "    <tr>\n",
       "      <th>5</th>\n",
       "      <td>12</td>\n",
       "      <td>0</td>\n",
       "    </tr>\n",
       "    <tr>\n",
       "      <th>6</th>\n",
       "      <td>21</td>\n",
       "      <td>0</td>\n",
       "    </tr>\n",
       "  </tbody>\n",
       "</table>\n",
       "</div>"
      ],
      "text/plain": [
       "   id  target\n",
       "0   0       1\n",
       "1   2       1\n",
       "2   3       1\n",
       "3   9       0\n",
       "4  11       1\n",
       "5  12       0\n",
       "6  21       0"
      ]
     },
     "execution_count": 189,
     "metadata": {},
     "output_type": "execute_result"
    }
   ],
   "source": [
    "preds = np.transpose(preds)[0]\n",
    "sub_df = pd.DataFrame({\n",
    "    'id': test_df['id'],#\n",
    "    'target': (preds > 0.5).astype(int)\n",
    "})\n",
    "\n",
    "##View submission dataframe\n",
    "sub_df.head(7)"
   ]
  },
  {
   "cell_type": "code",
   "execution_count": 190,
   "id": "f7ccc97e-c7f6-4f92-9c74-7c60adf1b7c6",
   "metadata": {},
   "outputs": [
    {
     "data": {
      "text/plain": [
       "target\n",
       "0    1976\n",
       "1    1287\n",
       "Name: count, dtype: int64"
      ]
     },
     "execution_count": 190,
     "metadata": {},
     "output_type": "execute_result"
    }
   ],
   "source": [
    "#view test prediction counts\n",
    "sub_df['target'].value_counts()"
   ]
  },
  {
   "cell_type": "code",
   "execution_count": 191,
   "id": "1148f0a5-a635-4d7d-a734-19e6a73fc40b",
   "metadata": {},
   "outputs": [
    {
     "data": {
      "text/plain": [
       "[Text(0, 0, 'Non_disaster'), Text(1, 0, 'Disaster')]"
      ]
     },
     "execution_count": 191,
     "metadata": {},
     "output_type": "execute_result"
    },
    {
     "data": {
      "image/png": "[encoded data removed]",
      "text/plain": [
       "<Figure size 400x400 with 1 Axes>"
      ]
     },
     "metadata": {},
     "output_type": "display_data"
    }
   ],
   "source": [
    "##View plot\n",
    "plt.figure(figsize=(4, 4))\n",
    "smplot = sns.countplot(x='target', hue='target', data= sub_df, palette=\"deep\")\n",
    "smplot.set_xticks([0, 1])\n",
    "smplot.set_xticklabels(['Non_disaster','Disaster'])\n"
   ]
  },
  {
   "cell_type": "markdown",
   "id": "dc0c23e5-31de-45b1-becf-f96ce02f4788",
   "metadata": {},
   "source": [
    "Now compare it to the length of the sample submission to see if it is of appropriate submission length"
   ]
  },
  {
   "cell_type": "code",
   "execution_count": 192,
   "id": "a88dc045-96d7-4663-a30f-e35575770db9",
   "metadata": {
    "tags": []
   },
   "outputs": [
    {
     "data": {
      "text/plain": [
       "3263"
      ]
     },
     "execution_count": 192,
     "metadata": {},
     "output_type": "execute_result"
    }
   ],
   "source": [
    "len(samp_df)"
   ]
  },
  {
   "cell_type": "code",
   "execution_count": 193,
   "id": "c1219278-b9e7-45ec-87f0-ea143bbd0f3f",
   "metadata": {
    "tags": []
   },
   "outputs": [
    {
     "data": {
      "text/plain": [
       "True"
      ]
     },
     "execution_count": 193,
     "metadata": {},
     "output_type": "execute_result"
    }
   ],
   "source": [
    "len(sub_df)==len(samp_df)"
   ]
  },
  {
   "cell_type": "code",
   "execution_count": 194,
   "id": "02ff6ba8-7785-4ad7-ba1d-11341c044ef4",
   "metadata": {},
   "outputs": [],
   "source": [
    "#convert to csv and submit to get score\n",
    "sub_df.to_csv('nlp_submission2.csv', index=False)"
   ]
  },
  {
   "cell_type": "markdown",
   "id": "e95c0150-e94e-400e-ba38-92bc10941b09",
   "metadata": {},
   "source": [
    "## Discussion/Conclusion\n",
    "\n",
    "After exploring our natural distater tweet dataset, conducting EDA adn processing the data, we've ran the dataset in 4 deep learning model architecures.\n",
    "\n",
    "The first model architecture we used was the distilBERT model. Despite using only 2000 total data rows and 80% of that was for text processing and and the training set, we achieved a validation loss of 0.4610 and accuracy fo 0.8050 which is quite good.\n",
    "\n",
    "The LSTM model worked better in terms of having less loss than distilhibert but slightly less validation accuracy. \n",
    "\n",
    "The GRU model showed even less validation loss but slightly lower accuracy although the numbers were still relatively low.\n",
    "\n",
    "Out final tuned LSTM model was an improvement in validation loss over the basic LSTM model with equivalent accuracy.\n",
    "\n",
    "Through many different iterations and time spent to come up with a model that can generalize well to unseen data, we achieved a current score of 0.788. This indicates that there is much more room for improving upon the model! We can try to improve our model performance quite a number of ways:\n",
    "\n",
    "1. Shuffling and and performing different poprotions of training and validation splits for our dataset. \n",
    "2. Utilize different forms of tokenization such as word, sub word or character tokenization\n",
    "3. Test out different methods of text processing and word vectorization such as bagging of words (BOW) and N-grams.\n",
    "4. Hyperparameter tuning such as grid searching batch sizes, different number and types of layers, different learning rates and optimizers\n",
    "\n",
    "Also comparing theese deep learning models to other machine learning models such as logistic regression, naive bayes or decision trees would be ideal to see which yields better predictinons on unseen datasets. Not only do some of these models have less hyperparameter tuning, some of these models require less computational resources to train as well making them probably an effienct alternative for our text classification and prediction problem.\n"
   ]
  },
  {
   "cell_type": "code",
   "execution_count": null,
   "id": "fb4753fb-41f1-452b-8535-d9b74121fea6",
   "metadata": {},
   "outputs": [],
   "source": []
  }
 ],
 "metadata": {
  "kernelspec": {
   "display_name": "Python (tf)",
   "language": "python",
   "name": "tf"
  },
  "language_info": {
   "codemirror_mode": {
    "name": "ipython",
    "version": 3
   },
   "file_extension": ".py",
   "mimetype": "text/x-python",
   "name": "python",
   "nbconvert_exporter": "python",
   "pygments_lexer": "ipython3",
   "version": "3.10.13"
  }
 },
 "nbformat": 4,
 "nbformat_minor": 5
}
